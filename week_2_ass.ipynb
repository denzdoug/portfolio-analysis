{
 "cells": [
  {
   "cell_type": "code",
   "execution_count": 100,
   "id": "27c2d077-bcdc-40c7-b7d1-342afb941a0c",
   "metadata": {},
   "outputs": [
    {
     "data": {
      "text/html": [
       "<div>\n",
       "<style scoped>\n",
       "    .dataframe tbody tr th:only-of-type {\n",
       "        vertical-align: middle;\n",
       "    }\n",
       "\n",
       "    .dataframe tbody tr th {\n",
       "        vertical-align: top;\n",
       "    }\n",
       "\n",
       "    .dataframe thead th {\n",
       "        text-align: right;\n",
       "    }\n",
       "</style>\n",
       "<table border=\"1\" class=\"dataframe\">\n",
       "  <thead>\n",
       "    <tr style=\"text-align: right;\">\n",
       "      <th></th>\n",
       "      <th>0</th>\n",
       "    </tr>\n",
       "  </thead>\n",
       "  <tbody>\n",
       "    <tr>\n",
       "      <th>0</th>\n",
       "      <td>151</td>\n",
       "    </tr>\n",
       "    <tr>\n",
       "      <th>1</th>\n",
       "      <td>150</td>\n",
       "    </tr>\n",
       "    <tr>\n",
       "      <th>2</th>\n",
       "      <td>148</td>\n",
       "    </tr>\n",
       "    <tr>\n",
       "      <th>3</th>\n",
       "      <td>147</td>\n",
       "    </tr>\n",
       "    <tr>\n",
       "      <th>4</th>\n",
       "      <td>154</td>\n",
       "    </tr>\n",
       "    <tr>\n",
       "      <th>...</th>\n",
       "      <td>...</td>\n",
       "    </tr>\n",
       "    <tr>\n",
       "      <th>1995</th>\n",
       "      <td>1947</td>\n",
       "    </tr>\n",
       "    <tr>\n",
       "      <th>1996</th>\n",
       "      <td>1964</td>\n",
       "    </tr>\n",
       "    <tr>\n",
       "      <th>1997</th>\n",
       "      <td>1961</td>\n",
       "    </tr>\n",
       "    <tr>\n",
       "      <th>1998</th>\n",
       "      <td>1963</td>\n",
       "    </tr>\n",
       "    <tr>\n",
       "      <th>1999</th>\n",
       "      <td>1969</td>\n",
       "    </tr>\n",
       "  </tbody>\n",
       "</table>\n",
       "<p>2000 rows × 1 columns</p>\n",
       "</div>"
      ],
      "text/plain": [
       "         0\n",
       "0      151\n",
       "1      150\n",
       "2      148\n",
       "3      147\n",
       "4      154\n",
       "...    ...\n",
       "1995  1947\n",
       "1996  1964\n",
       "1997  1961\n",
       "1998  1963\n",
       "1999  1969\n",
       "\n",
       "[2000 rows x 1 columns]"
      ]
     },
     "execution_count": 100,
     "metadata": {},
     "output_type": "execute_result"
    }
   ],
   "source": [
    "import pandas as pd\n",
    "df=pd.read_csv('input.csv',header = None)\n",
    "df"
   ]
  },
  {
   "cell_type": "code",
   "execution_count": 118,
   "id": "1ee74ce5-17f8-41a1-94f8-c19b474529d3",
   "metadata": {},
   "outputs": [],
   "source": [
    "for index, number in enumerate (df_list):\n",
    "    big_num = 0"
   ]
  },
  {
   "cell_type": "code",
   "execution_count": 102,
   "id": "21003275-3c49-49ea-b00f-d62f6c9cc06e",
   "metadata": {},
   "outputs": [],
   "source": [
    "df_list = list(df[0])"
   ]
  },
  {
   "cell_type": "code",
   "execution_count": 137,
   "id": "d2e5cac5-0497-4cbf-b13f-20224325c94e",
   "metadata": {},
   "outputs": [],
   "source": [
    "df_list=list(pd.read_csv('input.csv',header= None )[0])\n",
    "big_numb=0\n",
    "for index, number in enumerate (df_list):\n",
    "    try:\n",
    "        numb2 = df_list[index+1]\n",
    "    except:\n",
    "        pass\n",
    "    big_numb += int(numb2 > number)"
   ]
  },
  {
   "cell_type": "code",
   "execution_count": 138,
   "id": "9f56ba00-5661-4765-b77c-241cdfd69fd7",
   "metadata": {},
   "outputs": [
    {
     "name": "stdout",
     "output_type": "stream",
     "text": [
      "1139\n"
     ]
    }
   ],
   "source": [
    "print(big_numb)"
   ]
  },
  {
   "cell_type": "raw",
   "id": "616a5da1-ecbe-4bf0-93c8-aec1211182ad",
   "metadata": {},
   "source": [
    "#now part 2 "
   ]
  },
  {
   "cell_type": "code",
   "execution_count": 140,
   "id": "82635823-36cb-4898-95bc-59258ebaa0a2",
   "metadata": {},
   "outputs": [],
   "source": [
    "df_list=list(pd.read_csv('input.csv',header= None )[0])\n",
    "big_numb=0\n",
    "for index, number in enumerate (df_list):\n",
    "    try:\n",
    "        number = df_list[index] + df_list[index+1] + df_list[index+2]\n",
    "        numb2 = df_list[index+1] + df_list[index+2] + df_list[index+3]\n",
    "    except:\n",
    "        pass\n",
    "    big_numb += int(numb2 > number)"
   ]
  },
  {
   "cell_type": "code",
   "execution_count": 141,
   "id": "064fbabf-4239-4e24-b49e-f9d246c2bd0c",
   "metadata": {},
   "outputs": [
    {
     "name": "stdout",
     "output_type": "stream",
     "text": [
      "1105\n"
     ]
    }
   ],
   "source": [
    "print(big_numb)"
   ]
  },
  {
   "cell_type": "code",
   "execution_count": null,
   "id": "f24dfc2a-dc3f-480c-b42a-f20ede0d94e8",
   "metadata": {},
   "outputs": [],
   "source": []
  }
 ],
 "metadata": {
  "kernelspec": {
   "display_name": "Python 3 (ipykernel)",
   "language": "python",
   "name": "python3"
  },
  "language_info": {
   "codemirror_mode": {
    "name": "ipython",
    "version": 3
   },
   "file_extension": ".py",
   "mimetype": "text/x-python",
   "name": "python",
   "nbconvert_exporter": "python",
   "pygments_lexer": "ipython3",
   "version": "3.9.7"
  }
 },
 "nbformat": 4,
 "nbformat_minor": 5
}
