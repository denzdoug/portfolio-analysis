{
 "cells": [
  {
   "cell_type": "code",
   "execution_count": 1,
   "id": "7661d5cc-d0df-4e42-9c0e-96f06a028989",
   "metadata": {},
   "outputs": [
    {
     "name": "stdout",
     "output_type": "stream",
     "text": [
      "Extracting: https://www.zacks.com/funds/etf/SCHD/holding\n",
      "['AMGN', 'KO', 'VZ', 'MRK', 'AVGO', 'CSCO', 'IBM', 'PEP', 'LMT', 'PFE', 'TXN', 'MO', 'HD', 'ADP', 'BLK', 'MMM', 'USB', 'NEM', 'ITW', 'EMR', 'KMB', 'PRU', 'PAYX', 'VLO', 'ALL', 'FAST', 'TROW', 'OKE', 'FITB', 'CMI', 'TSN', 'HIG', 'BBY', 'NTRS', 'MTB', 'KEY', 'HBAN', 'RF', 'CINF', 'GPC', 'AMCR', 'IP', 'PFG', 'OMC', 'K', 'STLD', 'FNF', 'FHN', 'IPG', 'APO', 'WHR', 'HAS', 'CMA', 'SNA', 'ZION', 'WSO', 'OGN', 'BEN', 'WU', 'SNV', 'UNM', 'SON', 'JHG', 'OZK', 'FLO', 'LEG', 'WBS', 'EVR', 'MSM', 'LAZ', 'CATY', 'BOH', 'FHI', 'CVBF', 'NUS', 'IBOC', 'KD', 'BANR', 'MGRC', 'CNS', 'BGS', 'NWBI', 'HNI', 'FCF', 'BANF', 'MCY', 'SYBT', 'SAFT', 'RGR', 'CHCO', 'STBA', 'PFC', 'EIG', 'AGM', 'SWM', 'HFWA', 'SRCE', 'USD', 'NP', 'PETS', 'CASS', 'EBF']\n",
      "[*********************100%***********************]  102 of 102 completed\n"
     ]
    }
   ],
   "source": [
    "from dateutil.relativedelta import relativedelta, MO\n",
    "from pandas.tseries.offsets import MonthEnd\n",
    "import pandas as pd\n",
    "import datetime as dt\n",
    "import numpy as np\n",
    "import seaborn as sns\n",
    "import yfinance as yf\n",
    "import matplotlib.pyplot as plt\n",
    "import scipy.optimize as sco\n",
    "import requests\n",
    "import re\n",
    "# collect ETF data \n",
    "keys = ['SCHD']\n",
    "\n",
    "\n",
    "headers = {\n",
    "    \"User-Agent\": \"Mozilla/5.0 (Windows NT 10.0; Win64; x64; rv:83.0) Gecko/20100101 Firefox/83.0\"\n",
    "}\n",
    "\n",
    "\n",
    "def main(url):\n",
    "    with requests.Session() as req:\n",
    "        req.headers.update(headers)\n",
    "        for key in keys:\n",
    "            r = req.get(url.format(key))\n",
    "            print(f\"Extracting: {r.url}\")\n",
    "            goal = re.findall(r'etf\\\\\\/(.*?)\\\\', r.text)\n",
    "            print(goal)\n",
    "\n",
    "\n",
    "main(\"https://www.zacks.com/funds/etf/{}/holding\")\n",
    "\n",
    "ETF=['AMGN', 'KO', 'VZ', 'MRK', 'AVGO', 'CSCO', 'IBM', 'PEP', 'LMT', 'PFE', 'TXN', 'MO', 'HD', 'ADP', 'BLK', 'MMM', 'USB', 'NEM', 'ITW', 'EMR', 'KMB', 'PRU', 'PAYX', 'VLO', 'ALL', 'FAST', 'TROW', 'OKE', 'FITB', 'CMI', 'TSN', 'HIG', 'BBY', 'NTRS', 'MTB', 'KEY', 'HBAN', 'RF', 'CINF', 'GPC', 'AMCR', 'IP', 'PFG', 'OMC', 'K', 'STLD', 'FNF', 'FHN', 'IPG', 'APO', 'WHR', 'HAS', 'CMA', 'SNA', 'ZION', 'WSO', 'OGN', 'BEN', 'WU', 'SNV', 'UNM', 'SON', 'JHG', 'OZK', 'FLO', 'LEG', 'WBS', 'EVR', 'MSM', 'LAZ', 'CATY', 'BOH', 'FHI', 'CVBF', 'NUS', 'IBOC', 'KD', 'BANR', 'MGRC', 'CNS', 'BGS', 'NWBI', 'HNI', 'FCF', 'BANF', 'MCY', 'SYBT', 'SAFT', 'RGR', 'CHCO', 'STBA', 'PFC', 'EIG', 'AGM', 'SWM', 'HFWA', 'SRCE', 'USD', 'NP', 'PETS', 'CASS', 'EBF']\n",
    "\n",
    "\n",
    "# download data from yfinance\n",
    "data= yf.download(ETF, period='10y')\n"
   ]
  },
  {
   "cell_type": "code",
   "execution_count": 2,
   "id": "b57726a1-62cb-45f4-a710-10116a547326",
   "metadata": {},
   "outputs": [],
   "source": [
    "data = data.dropna(how='all', axis=1)\n",
    "ETF = list(data['Adj Close'].columns)\n",
    "#create returns and price\n",
    "price= data['Adj Close']\n",
    "#price.index=pd.to_datetime(price.index)\n",
    "returns=price.pct_change()\n",
    "\n",
    "\n",
    "volume= data.Volume\n",
    "#create dataframe\n",
    "score_df=pd.DataFrame(index=ETF)\n",
    "\n"
   ]
  },
  {
   "cell_type": "code",
   "execution_count": 3,
   "id": "615a2784-375a-4aff-802e-75f3fb49d8d5",
   "metadata": {},
   "outputs": [],
   "source": [
    "# slope of 52 day trend line w 20day lag\n",
    "def trendline(ETF, price):\n",
    "    # output df\n",
    "    trend_df=pd.DataFrame(index=ETF)\n",
    "    # last 20 day lag\n",
    "    for day in range(1, 21):   \n",
    "        # regression to get slope\n",
    "        trend_df[day] = np.polyfit(range(len(price[day- 252:])), price[day- 252 :], 1)[0]\n",
    "        # output mean of 20 day lag slope trend\n",
    "        return trend_df.mean(axis=1)                                                   "
   ]
  },
  {
   "cell_type": "code",
   "execution_count": 4,
   "id": "de17d401-65f5-4794-808a-9c24d6546b7a",
   "metadata": {},
   "outputs": [],
   "source": [
    "def voltren(ETF, volume):\n",
    "        # output df\n",
    "        volume_df=pd.DataFrame(index=ETF)\n",
    "        # 51 week volume trend\n",
    "        for day in range(1, 21):   \n",
    "            # regression to get volume trend \n",
    "            volume_df[day] = np.polyfit(range(len(volume[day- 252:])), volume[day- 252:], 1)[1]\n",
    "            return volume_df.mean(axis=1)\n",
    "        "
   ]
  },
  {
   "cell_type": "code",
   "execution_count": 5,
   "id": "5be4bc2f-3444-4a9a-a1bd-563211e916bf",
   "metadata": {},
   "outputs": [],
   "source": [
    "class mom_factors:\n",
    "    def __init__(self,data, ETF, price, volume, score_df, returns):\n",
    "        self.ETF=ETF\n",
    "        self.price=price\n",
    "        self.volume=volume\n",
    "        self.score_df=pd.DataFrame(index=self.ETF)\n",
    "        self.returns=returns\n",
    "        self.data=data\n",
    "    def _trendline(self):\n",
    "        # output df\n",
    "        self.trend_df=pd.DataFrame(index=ETF)\n",
    "        # last 20 day lag\n",
    "        for day in range(1, 21):   \n",
    "            # regression to get slope\n",
    "            self.trend_df[day] = np.polyfit(range(len(self.price[day- 252:])), self.price[day- 252 :], 1)[0]\n",
    "            # output mean of 20 day lag slope trend\n",
    "            return self.trend_df.mean(axis=1)   \n",
    "        \n",
    "    def _voltren(self):\n",
    "        # output df\n",
    "        self.volume_df=pd.DataFrame(index=ETF)\n",
    "        # 51 week volume trend\n",
    "        for day in range(1, 21):   \n",
    "            # regression to get volume trend \n",
    "            self.volume_df[day] = np.polyfit(range(len(self.volume[day- 252:])), self.volume[day- 252:], 1)[1]\n",
    "            return self.volume_df.mean(axis=1)\n",
    "        \n",
    "    def _momentum_factors(self):\n",
    "        # slope of 52 day trend line w 20day lag\n",
    "        self.score_df['trendline']= self._trendline()\n",
    "\n",
    "        # precent above 260 day low w 20day lag\n",
    "        self.roll_min = self.price.rolling(252).min()\n",
    "        self.score_df['above_260']=(\n",
    "            (self.price[-260:] - self.roll_min)/self.roll_min)[-20:].mean()\n",
    "\n",
    "        # 4 over 52 price oscilator \n",
    "        self.score_df['P_osc']=(\n",
    "            (self.price.rolling(20).mean() - self.price.rolling(260).mean())/ self.price.rolling(260).std())[-20:].mean()\n",
    "        # 39 week return\n",
    "        self.weekly_ret= self.returns.resample('W').agg(lambda x: (x+1).prod() -1)\n",
    "        self.past39  = self.weekly_ret.rolling(39).mean()[-1:]\n",
    "        self.score_df['return_39w'] = self.past39.mean()\n",
    "            \n",
    "        # volume tren\n",
    "        self.score_df['vol_trend']= self._voltren()\n",
    "        \n",
    "        #output df of factors\n",
    "        return self.score_df\n",
    "    \n",
    "  # step 2 \n",
    "# 1) z score so we can rank individual assets\n",
    "# 2) select from the ranking  def _agg_scores(self):\n",
    "    def _agg_scores(self):\n",
    "        \n",
    "        self.agg_df= self._momentum_factors()\n",
    "        \n",
    "        self.agg_df=   (self.agg_df -   self.agg_df.mean()) /  self.agg_df.std()\n",
    "          \n",
    "        \n",
    "        return self.agg_df.mean(axis=1)\n",
    "    \n",
    "    def _baskets(self):\n",
    "    \n",
    "        self.z_scores = self._agg_scores()\n",
    "    \n",
    "        return list(self.z_scores.nlargest(10).index), list(self.z_scores.nsmallest(10).index)\n",
    "   \n",
    "    def _success(self):\n",
    "        \n",
    "        \n",
    "        self.longbasket, self.shortbasket = MF._baskets()\n",
    "        self.long_basket=yf.download(self.longbasket, period='10y')[['Adj Close']]\n",
    "        self.short_basket=yf.download(self.shortbasket, period='10y')[['Adj Close']]\n",
    "        self.long_ret=self.long_basket.pct_change().resample(\"M\").sum().shift(-1)\n",
    "        self.short_ret=self.short_basket.pct_change().resample(\"M\").sum().shift(-1)\n",
    "        self.longret_yr=(self.long_ret+1).rolling(11).apply(np.prod)-1\n",
    "        self.shortret_yr=(self.short_ret+1).rolling(11).apply(np.prod)-1\n",
    "        self.tot_ret= pd.DataFrame(self.longret_yr.mean(axis=1) - self.shortret_yr.mean(axis=1)).shift()\n",
    "\n",
    "        return self.tot_ret\n",
    "    "
   ]
  },
  {
   "cell_type": "code",
   "execution_count": null,
   "id": "c57b924b-81c1-4722-a40f-d3be5815b06b",
   "metadata": {},
   "outputs": [],
   "source": []
  },
  {
   "cell_type": "code",
   "execution_count": 6,
   "id": "29523d46-d2ba-4aa8-a0e4-b61dfaf3f20c",
   "metadata": {},
   "outputs": [],
   "source": [
    "MF= mom_factors(data, ETF, price, volume, score_df, returns)\n",
    "longbasket, shortbasket = MF._baskets()"
   ]
  },
  {
   "cell_type": "code",
   "execution_count": 7,
   "id": "e92189be-1dae-45d0-8df4-86038c482017",
   "metadata": {},
   "outputs": [
    {
     "name": "stdout",
     "output_type": "stream",
     "text": [
      "[*********************100%***********************]  10 of 10 completed\n",
      "[*********************100%***********************]  10 of 10 completed\n"
     ]
    }
   ],
   "source": [
    "algo_profits=MF._success()[-61:]"
   ]
  },
  {
   "cell_type": "code",
   "execution_count": null,
   "id": "48d7d93a-7f54-47bd-9307-f40269957132",
   "metadata": {},
   "outputs": [],
   "source": []
  },
  {
   "cell_type": "code",
   "execution_count": null,
   "id": "6d74e173-b1dd-4777-b8b8-b8abe6c4c305",
   "metadata": {},
   "outputs": [],
   "source": []
  },
  {
   "cell_type": "code",
   "execution_count": null,
   "id": "456693a6-932b-4a07-a459-6923b9aceffa",
   "metadata": {},
   "outputs": [],
   "source": []
  },
  {
   "cell_type": "code",
   "execution_count": null,
   "id": "814f41e5-5bcf-4a6f-b253-b6e54a20ae39",
   "metadata": {},
   "outputs": [],
   "source": [
    "\n"
   ]
  },
  {
   "cell_type": "code",
   "execution_count": null,
   "id": "86f7073c-f353-434f-bf78-ef6b29a941c2",
   "metadata": {},
   "outputs": [],
   "source": []
  },
  {
   "cell_type": "code",
   "execution_count": null,
   "id": "c280077b-2f8c-485e-820b-ad652b2c1b04",
   "metadata": {},
   "outputs": [],
   "source": [
    "\n"
   ]
  },
  {
   "cell_type": "code",
   "execution_count": null,
   "id": "15ac9821-9bab-4fc6-aa65-4736467c6a85",
   "metadata": {},
   "outputs": [],
   "source": []
  },
  {
   "cell_type": "code",
   "execution_count": null,
   "id": "09007623-10d2-4bed-be8f-f1f4b0e82856",
   "metadata": {},
   "outputs": [],
   "source": []
  },
  {
   "cell_type": "code",
   "execution_count": null,
   "id": "1276f16e-6ee8-4a11-bc02-34c9aa436161",
   "metadata": {},
   "outputs": [],
   "source": [
    "\n",
    "\n"
   ]
  },
  {
   "cell_type": "code",
   "execution_count": 8,
   "id": "5c253f22-ff93-48f0-a993-1376250a4d61",
   "metadata": {},
   "outputs": [
    {
     "name": "stdout",
     "output_type": "stream",
     "text": [
      "[*********************100%***********************]  1 of 1 completed\n"
     ]
    }
   ],
   "source": [
    "SPY= yf.download('^GSPC', period='5y')\n",
    "SPY= SPY['Adj Close']\n",
    "SPY_mtl= SPY.pct_change().resample('M').agg(lambda x: (x+1).prod() -1)"
   ]
  },
  {
   "cell_type": "code",
   "execution_count": null,
   "id": "25ba0a9f-dd1b-4817-8da8-045c97a41e0a",
   "metadata": {},
   "outputs": [],
   "source": []
  },
  {
   "cell_type": "code",
   "execution_count": 9,
   "id": "9f05a1e7-2b19-45da-9faa-b16ec96f0099",
   "metadata": {},
   "outputs": [
    {
     "data": {
      "text/html": [
       "<div>\n",
       "<style scoped>\n",
       "    .dataframe tbody tr th:only-of-type {\n",
       "        vertical-align: middle;\n",
       "    }\n",
       "\n",
       "    .dataframe tbody tr th {\n",
       "        vertical-align: top;\n",
       "    }\n",
       "\n",
       "    .dataframe thead th {\n",
       "        text-align: right;\n",
       "    }\n",
       "</style>\n",
       "<table border=\"1\" class=\"dataframe\">\n",
       "  <thead>\n",
       "    <tr style=\"text-align: right;\">\n",
       "      <th></th>\n",
       "      <th>0</th>\n",
       "      <th>SPY_500</th>\n",
       "      <th>excess</th>\n",
       "      <th>outperformed</th>\n",
       "    </tr>\n",
       "    <tr>\n",
       "      <th>Date</th>\n",
       "      <th></th>\n",
       "      <th></th>\n",
       "      <th></th>\n",
       "      <th></th>\n",
       "    </tr>\n",
       "  </thead>\n",
       "  <tbody>\n",
       "    <tr>\n",
       "      <th>2017-05-31</th>\n",
       "      <td>-0.032859</td>\n",
       "      <td>0.003082</td>\n",
       "      <td>-0.035941</td>\n",
       "      <td>NO</td>\n",
       "    </tr>\n",
       "    <tr>\n",
       "      <th>2017-06-30</th>\n",
       "      <td>0.006158</td>\n",
       "      <td>0.004814</td>\n",
       "      <td>0.001344</td>\n",
       "      <td>Yes</td>\n",
       "    </tr>\n",
       "    <tr>\n",
       "      <th>2017-07-31</th>\n",
       "      <td>0.023690</td>\n",
       "      <td>0.019349</td>\n",
       "      <td>0.004341</td>\n",
       "      <td>Yes</td>\n",
       "    </tr>\n",
       "    <tr>\n",
       "      <th>2017-08-31</th>\n",
       "      <td>0.028139</td>\n",
       "      <td>0.000546</td>\n",
       "      <td>0.027593</td>\n",
       "      <td>Yes</td>\n",
       "    </tr>\n",
       "    <tr>\n",
       "      <th>2017-09-30</th>\n",
       "      <td>-0.012546</td>\n",
       "      <td>0.019303</td>\n",
       "      <td>-0.031849</td>\n",
       "      <td>NO</td>\n",
       "    </tr>\n",
       "    <tr>\n",
       "      <th>...</th>\n",
       "      <td>...</td>\n",
       "      <td>...</td>\n",
       "      <td>...</td>\n",
       "      <td>...</td>\n",
       "    </tr>\n",
       "    <tr>\n",
       "      <th>2022-01-31</th>\n",
       "      <td>0.245449</td>\n",
       "      <td>-0.052585</td>\n",
       "      <td>0.298034</td>\n",
       "      <td>Yes</td>\n",
       "    </tr>\n",
       "    <tr>\n",
       "      <th>2022-02-28</th>\n",
       "      <td>0.390725</td>\n",
       "      <td>-0.031360</td>\n",
       "      <td>0.422086</td>\n",
       "      <td>Yes</td>\n",
       "    </tr>\n",
       "    <tr>\n",
       "      <th>2022-03-31</th>\n",
       "      <td>0.517004</td>\n",
       "      <td>0.035773</td>\n",
       "      <td>0.481231</td>\n",
       "      <td>Yes</td>\n",
       "    </tr>\n",
       "    <tr>\n",
       "      <th>2022-04-30</th>\n",
       "      <td>0.548901</td>\n",
       "      <td>-0.087957</td>\n",
       "      <td>0.636858</td>\n",
       "      <td>Yes</td>\n",
       "    </tr>\n",
       "    <tr>\n",
       "      <th>2022-05-31</th>\n",
       "      <td>0.614903</td>\n",
       "      <td>-0.038282</td>\n",
       "      <td>0.653186</td>\n",
       "      <td>Yes</td>\n",
       "    </tr>\n",
       "  </tbody>\n",
       "</table>\n",
       "<p>61 rows × 4 columns</p>\n",
       "</div>"
      ],
      "text/plain": [
       "                   0   SPY_500    excess outperformed\n",
       "Date                                                 \n",
       "2017-05-31 -0.032859  0.003082 -0.035941           NO\n",
       "2017-06-30  0.006158  0.004814  0.001344          Yes\n",
       "2017-07-31  0.023690  0.019349  0.004341          Yes\n",
       "2017-08-31  0.028139  0.000546  0.027593          Yes\n",
       "2017-09-30 -0.012546  0.019303 -0.031849           NO\n",
       "...              ...       ...       ...          ...\n",
       "2022-01-31  0.245449 -0.052585  0.298034          Yes\n",
       "2022-02-28  0.390725 -0.031360  0.422086          Yes\n",
       "2022-03-31  0.517004  0.035773  0.481231          Yes\n",
       "2022-04-30  0.548901 -0.087957  0.636858          Yes\n",
       "2022-05-31  0.614903 -0.038282  0.653186          Yes\n",
       "\n",
       "[61 rows x 4 columns]"
      ]
     },
     "execution_count": 9,
     "metadata": {},
     "output_type": "execute_result"
    }
   ],
   "source": [
    "results = pd.DataFrame(algo_profits) \n",
    "\n",
    "results['SPY_500']= SPY_mtl.values\n",
    "results['excess']= results.iloc[:,0] - results.iloc[:,1]\n",
    "results['outperformed']= ['Yes' if i> 0 else 'NO' for i in results.excess]\n",
    "results\n"
   ]
  },
  {
   "cell_type": "code",
   "execution_count": 10,
   "id": "a4b68f89-b2bd-4d24-a2e2-8133a1f32492",
   "metadata": {},
   "outputs": [
    {
     "data": {
      "text/plain": [
       "(27, 4)"
      ]
     },
     "execution_count": 10,
     "metadata": {},
     "output_type": "execute_result"
    }
   ],
   "source": [
    "results[results.outperformed == \"Yes\"].shape"
   ]
  },
  {
   "cell_type": "code",
   "execution_count": 11,
   "id": "76f331bb-ece1-4f8d-b139-c2e3215a5be1",
   "metadata": {},
   "outputs": [
    {
     "data": {
      "text/plain": [
       "(61, 4)"
      ]
     },
     "execution_count": 11,
     "metadata": {},
     "output_type": "execute_result"
    }
   ],
   "source": [
    "results.shape"
   ]
  },
  {
   "cell_type": "code",
   "execution_count": 12,
   "id": "2aec8fde-5f4f-4348-91e7-dc3d0e89cbf7",
   "metadata": {},
   "outputs": [
    {
     "data": {
      "text/plain": [
       "0.4426229508196721"
      ]
     },
     "execution_count": 12,
     "metadata": {},
     "output_type": "execute_result"
    }
   ],
   "source": [
    "27/61"
   ]
  },
  {
   "cell_type": "code",
   "execution_count": 22,
   "id": "78f2d1ca-f23e-4982-b6c9-095cddb3455a",
   "metadata": {},
   "outputs": [
    {
     "data": {
      "text/html": [
       "<div>\n",
       "<style scoped>\n",
       "    .dataframe tbody tr th:only-of-type {\n",
       "        vertical-align: middle;\n",
       "    }\n",
       "\n",
       "    .dataframe tbody tr th {\n",
       "        vertical-align: top;\n",
       "    }\n",
       "\n",
       "    .dataframe thead th {\n",
       "        text-align: right;\n",
       "    }\n",
       "</style>\n",
       "<table border=\"1\" class=\"dataframe\">\n",
       "  <thead>\n",
       "    <tr style=\"text-align: right;\">\n",
       "      <th></th>\n",
       "      <th>ME</th>\n",
       "      <th>SPY_500</th>\n",
       "      <th>EXCESS</th>\n",
       "      <th>OUTPERFORMED</th>\n",
       "    </tr>\n",
       "    <tr>\n",
       "      <th>Date</th>\n",
       "      <th></th>\n",
       "      <th></th>\n",
       "      <th></th>\n",
       "      <th></th>\n",
       "    </tr>\n",
       "  </thead>\n",
       "  <tbody>\n",
       "    <tr>\n",
       "      <th>2017-05-31</th>\n",
       "      <td>-0.032859</td>\n",
       "      <td>0.003082</td>\n",
       "      <td>-0.035941</td>\n",
       "      <td>NO</td>\n",
       "    </tr>\n",
       "    <tr>\n",
       "      <th>2017-06-30</th>\n",
       "      <td>0.006158</td>\n",
       "      <td>0.004814</td>\n",
       "      <td>0.001344</td>\n",
       "      <td>Yes</td>\n",
       "    </tr>\n",
       "    <tr>\n",
       "      <th>2017-07-31</th>\n",
       "      <td>0.023690</td>\n",
       "      <td>0.019349</td>\n",
       "      <td>0.004341</td>\n",
       "      <td>Yes</td>\n",
       "    </tr>\n",
       "    <tr>\n",
       "      <th>2017-08-31</th>\n",
       "      <td>0.028139</td>\n",
       "      <td>0.000546</td>\n",
       "      <td>0.027593</td>\n",
       "      <td>Yes</td>\n",
       "    </tr>\n",
       "    <tr>\n",
       "      <th>2017-09-30</th>\n",
       "      <td>-0.012546</td>\n",
       "      <td>0.019303</td>\n",
       "      <td>-0.031849</td>\n",
       "      <td>NO</td>\n",
       "    </tr>\n",
       "    <tr>\n",
       "      <th>...</th>\n",
       "      <td>...</td>\n",
       "      <td>...</td>\n",
       "      <td>...</td>\n",
       "      <td>...</td>\n",
       "    </tr>\n",
       "    <tr>\n",
       "      <th>2022-01-31</th>\n",
       "      <td>0.245449</td>\n",
       "      <td>-0.052585</td>\n",
       "      <td>0.298034</td>\n",
       "      <td>Yes</td>\n",
       "    </tr>\n",
       "    <tr>\n",
       "      <th>2022-02-28</th>\n",
       "      <td>0.390725</td>\n",
       "      <td>-0.031360</td>\n",
       "      <td>0.422086</td>\n",
       "      <td>Yes</td>\n",
       "    </tr>\n",
       "    <tr>\n",
       "      <th>2022-03-31</th>\n",
       "      <td>0.517004</td>\n",
       "      <td>0.035773</td>\n",
       "      <td>0.481231</td>\n",
       "      <td>Yes</td>\n",
       "    </tr>\n",
       "    <tr>\n",
       "      <th>2022-04-30</th>\n",
       "      <td>0.548901</td>\n",
       "      <td>-0.087957</td>\n",
       "      <td>0.636858</td>\n",
       "      <td>Yes</td>\n",
       "    </tr>\n",
       "    <tr>\n",
       "      <th>2022-05-31</th>\n",
       "      <td>0.614903</td>\n",
       "      <td>-0.038282</td>\n",
       "      <td>0.653186</td>\n",
       "      <td>Yes</td>\n",
       "    </tr>\n",
       "  </tbody>\n",
       "</table>\n",
       "<p>61 rows × 4 columns</p>\n",
       "</div>"
      ],
      "text/plain": [
       "                  ME   SPY_500    EXCESS OUTPERFORMED\n",
       "Date                                                 \n",
       "2017-05-31 -0.032859  0.003082 -0.035941           NO\n",
       "2017-06-30  0.006158  0.004814  0.001344          Yes\n",
       "2017-07-31  0.023690  0.019349  0.004341          Yes\n",
       "2017-08-31  0.028139  0.000546  0.027593          Yes\n",
       "2017-09-30 -0.012546  0.019303 -0.031849           NO\n",
       "...              ...       ...       ...          ...\n",
       "2022-01-31  0.245449 -0.052585  0.298034          Yes\n",
       "2022-02-28  0.390725 -0.031360  0.422086          Yes\n",
       "2022-03-31  0.517004  0.035773  0.481231          Yes\n",
       "2022-04-30  0.548901 -0.087957  0.636858          Yes\n",
       "2022-05-31  0.614903 -0.038282  0.653186          Yes\n",
       "\n",
       "[61 rows x 4 columns]"
      ]
     },
     "execution_count": 22,
     "metadata": {},
     "output_type": "execute_result"
    }
   ],
   "source": [
    "\n",
    "results.columns =['ME', 'SPY_500', 'EXCESS', 'OUTPERFORMED']\n",
    "results\n",
    "  "
   ]
  },
  {
   "cell_type": "code",
   "execution_count": 24,
   "id": "11b859a6-738c-4a0b-8554-96490b2185c3",
   "metadata": {},
   "outputs": [
    {
     "data": {
      "text/plain": [
       "<AxesSubplot:xlabel='Date'>"
      ]
     },
     "execution_count": 24,
     "metadata": {},
     "output_type": "execute_result"
    },
    {
     "data": {
      "image/png": "[encoded data removed]",
      "text/plain": [
       "<Figure size 432x288 with 1 Axes>"
      ]
     },
     "metadata": {
      "needs_background": "light"
     },
     "output_type": "display_data"
    }
   ],
   "source": [
    "%matplotlib inline\n",
    "results.plot()"
   ]
  },
  {
   "cell_type": "code",
   "execution_count": null,
   "id": "01d082ea-a003-430f-88c4-9abb79c6d55c",
   "metadata": {},
   "outputs": [],
   "source": []
  }
 ],
 "metadata": {
  "kernelspec": {
   "display_name": "Python 3 (ipykernel)",
   "language": "python",
   "name": "python3"
  },
  "language_info": {
   "codemirror_mode": {
    "name": "ipython",
    "version": 3
   },
   "file_extension": ".py",
   "mimetype": "text/x-python",
   "name": "python",
   "nbconvert_exporter": "python",
   "pygments_lexer": "ipython3",
   "version": "3.9.7"
  }
 },
 "nbformat": 4,
 "nbformat_minor": 5
}
