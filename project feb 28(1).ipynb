{
 "cells": [
  {
   "cell_type": "code",
   "execution_count": 79,
   "id": "911ca66e-28d5-4632-9d6b-0ac7b86c9465",
   "metadata": {},
   "outputs": [],
   "source": [
    "#My_portfolio= ['HEINY','HOG', 'LVMUY', 'SWBI', 'NKE', 'SWk', 'ATVI']\n",
    "#data = yf.download(\"HEINY HOG LVMUY SWBI NKE SWK ATVI\")\n",
    "from datetime import date, timedelta\n",
    "import pandas as pd\n",
    "import yfinance as yf\n",
    "import math \n",
    "import numpy as np\n",
    "HEINY= yf.Ticker('HEINY')\n",
    "HOG= yf.Ticker('HOG')\n",
    "LVMUY= yf.Ticker('LVMUY')\n",
    "SWBI= yf.Ticker('SWBI')\n",
    "NKE= yf.Ticker('NKE')\n",
    "SWK= yf.Ticker('SWK')\n",
    "ATVI= yf.Ticker('ATVI')\n",
    "GSPC=yf.Ticker('^GSPC')\n",
    "RUT= yf.Ticker('^RUT')\n",
    "DJI=yf.Ticker('^DJI')"
   ]
  },
  {
   "cell_type": "code",
   "execution_count": 2,
   "id": "082bd715-25e4-4033-a873-0e2182004099",
   "metadata": {},
   "outputs": [
    {
     "name": "stdout",
     "output_type": "stream",
     "text": [
      "[*********************100%***********************]  7 of 7 completed\n"
     ]
    },
    {
     "data": {
      "text/html": [
       "<div>\n",
       "<style scoped>\n",
       "    .dataframe tbody tr th:only-of-type {\n",
       "        vertical-align: middle;\n",
       "    }\n",
       "\n",
       "    .dataframe tbody tr th {\n",
       "        vertical-align: top;\n",
       "    }\n",
       "\n",
       "    .dataframe thead tr th {\n",
       "        text-align: left;\n",
       "    }\n",
       "\n",
       "    .dataframe thead tr:last-of-type th {\n",
       "        text-align: right;\n",
       "    }\n",
       "</style>\n",
       "<table border=\"1\" class=\"dataframe\">\n",
       "  <thead>\n",
       "    <tr>\n",
       "      <th></th>\n",
       "      <th colspan=\"7\" halign=\"left\">Adj Close</th>\n",
       "      <th colspan=\"3\" halign=\"left\">Close</th>\n",
       "      <th>...</th>\n",
       "      <th colspan=\"3\" halign=\"left\">Open</th>\n",
       "      <th colspan=\"7\" halign=\"left\">Volume</th>\n",
       "    </tr>\n",
       "    <tr>\n",
       "      <th></th>\n",
       "      <th>ATVI</th>\n",
       "      <th>HEINY</th>\n",
       "      <th>HOG</th>\n",
       "      <th>LVMUY</th>\n",
       "      <th>NKE</th>\n",
       "      <th>SWBI</th>\n",
       "      <th>SWK</th>\n",
       "      <th>ATVI</th>\n",
       "      <th>HEINY</th>\n",
       "      <th>HOG</th>\n",
       "      <th>...</th>\n",
       "      <th>NKE</th>\n",
       "      <th>SWBI</th>\n",
       "      <th>SWK</th>\n",
       "      <th>ATVI</th>\n",
       "      <th>HEINY</th>\n",
       "      <th>HOG</th>\n",
       "      <th>LVMUY</th>\n",
       "      <th>NKE</th>\n",
       "      <th>SWBI</th>\n",
       "      <th>SWK</th>\n",
       "    </tr>\n",
       "    <tr>\n",
       "      <th>Date</th>\n",
       "      <th></th>\n",
       "      <th></th>\n",
       "      <th></th>\n",
       "      <th></th>\n",
       "      <th></th>\n",
       "      <th></th>\n",
       "      <th></th>\n",
       "      <th></th>\n",
       "      <th></th>\n",
       "      <th></th>\n",
       "      <th></th>\n",
       "      <th></th>\n",
       "      <th></th>\n",
       "      <th></th>\n",
       "      <th></th>\n",
       "      <th></th>\n",
       "      <th></th>\n",
       "      <th></th>\n",
       "      <th></th>\n",
       "      <th></th>\n",
       "      <th></th>\n",
       "    </tr>\n",
       "  </thead>\n",
       "  <tbody>\n",
       "    <tr>\n",
       "      <th>2021-11-29</th>\n",
       "      <td>60.310001</td>\n",
       "      <td>52.939999</td>\n",
       "      <td>37.372314</td>\n",
       "      <td>157.213211</td>\n",
       "      <td>169.565231</td>\n",
       "      <td>22.120913</td>\n",
       "      <td>183.360001</td>\n",
       "      <td>60.310001</td>\n",
       "      <td>52.939999</td>\n",
       "      <td>37.669998</td>\n",
       "      <td>...</td>\n",
       "      <td>169.830002</td>\n",
       "      <td>22.93</td>\n",
       "      <td>184.679993</td>\n",
       "      <td>7749600</td>\n",
       "      <td>36100</td>\n",
       "      <td>918700</td>\n",
       "      <td>135500</td>\n",
       "      <td>5448700</td>\n",
       "      <td>704200</td>\n",
       "      <td>1043200</td>\n",
       "    </tr>\n",
       "    <tr>\n",
       "      <th>2021-11-30</th>\n",
       "      <td>58.599998</td>\n",
       "      <td>49.689999</td>\n",
       "      <td>36.340538</td>\n",
       "      <td>155.889008</td>\n",
       "      <td>168.936371</td>\n",
       "      <td>22.648550</td>\n",
       "      <td>174.759995</td>\n",
       "      <td>58.599998</td>\n",
       "      <td>49.689999</td>\n",
       "      <td>36.630001</td>\n",
       "      <td>...</td>\n",
       "      <td>168.789993</td>\n",
       "      <td>22.18</td>\n",
       "      <td>181.460007</td>\n",
       "      <td>19291100</td>\n",
       "      <td>114200</td>\n",
       "      <td>1583900</td>\n",
       "      <td>102100</td>\n",
       "      <td>11033700</td>\n",
       "      <td>1049400</td>\n",
       "      <td>2964800</td>\n",
       "    </tr>\n",
       "    <tr>\n",
       "      <th>2021-12-01</th>\n",
       "      <td>57.279999</td>\n",
       "      <td>48.770000</td>\n",
       "      <td>36.340538</td>\n",
       "      <td>153.750000</td>\n",
       "      <td>166.400925</td>\n",
       "      <td>22.399666</td>\n",
       "      <td>171.070007</td>\n",
       "      <td>57.279999</td>\n",
       "      <td>48.770000</td>\n",
       "      <td>36.630001</td>\n",
       "      <td>...</td>\n",
       "      <td>170.889999</td>\n",
       "      <td>23.00</td>\n",
       "      <td>178.009995</td>\n",
       "      <td>11607000</td>\n",
       "      <td>50600</td>\n",
       "      <td>1206200</td>\n",
       "      <td>139600</td>\n",
       "      <td>6618200</td>\n",
       "      <td>989700</td>\n",
       "      <td>1543200</td>\n",
       "    </tr>\n",
       "    <tr>\n",
       "      <th>2021-12-02</th>\n",
       "      <td>57.290001</td>\n",
       "      <td>49.889999</td>\n",
       "      <td>37.084610</td>\n",
       "      <td>156.130005</td>\n",
       "      <td>169.695007</td>\n",
       "      <td>22.807837</td>\n",
       "      <td>176.639999</td>\n",
       "      <td>57.290001</td>\n",
       "      <td>49.889999</td>\n",
       "      <td>37.380001</td>\n",
       "      <td>...</td>\n",
       "      <td>167.279999</td>\n",
       "      <td>22.65</td>\n",
       "      <td>172.289993</td>\n",
       "      <td>8606200</td>\n",
       "      <td>75800</td>\n",
       "      <td>1208000</td>\n",
       "      <td>93400</td>\n",
       "      <td>4398900</td>\n",
       "      <td>1231700</td>\n",
       "      <td>1818000</td>\n",
       "    </tr>\n",
       "    <tr>\n",
       "      <th>2021-12-03</th>\n",
       "      <td>57.360001</td>\n",
       "      <td>49.900002</td>\n",
       "      <td>36.221485</td>\n",
       "      <td>154.779999</td>\n",
       "      <td>170.240005</td>\n",
       "      <td>16.257179</td>\n",
       "      <td>182.059998</td>\n",
       "      <td>57.360001</td>\n",
       "      <td>49.900002</td>\n",
       "      <td>36.509998</td>\n",
       "      <td>...</td>\n",
       "      <td>170.619995</td>\n",
       "      <td>18.35</td>\n",
       "      <td>177.110001</td>\n",
       "      <td>13282300</td>\n",
       "      <td>53700</td>\n",
       "      <td>1090100</td>\n",
       "      <td>79700</td>\n",
       "      <td>4878200</td>\n",
       "      <td>9082500</td>\n",
       "      <td>1903100</td>\n",
       "    </tr>\n",
       "  </tbody>\n",
       "</table>\n",
       "<p>5 rows × 42 columns</p>\n",
       "</div>"
      ],
      "text/plain": [
       "            Adj Close                                                \\\n",
       "                 ATVI      HEINY        HOG       LVMUY         NKE   \n",
       "Date                                                                  \n",
       "2021-11-29  60.310001  52.939999  37.372314  157.213211  169.565231   \n",
       "2021-11-30  58.599998  49.689999  36.340538  155.889008  168.936371   \n",
       "2021-12-01  57.279999  48.770000  36.340538  153.750000  166.400925   \n",
       "2021-12-02  57.290001  49.889999  37.084610  156.130005  169.695007   \n",
       "2021-12-03  57.360001  49.900002  36.221485  154.779999  170.240005   \n",
       "\n",
       "                                       Close                        ...  \\\n",
       "                 SWBI         SWK       ATVI      HEINY        HOG  ...   \n",
       "Date                                                                ...   \n",
       "2021-11-29  22.120913  183.360001  60.310001  52.939999  37.669998  ...   \n",
       "2021-11-30  22.648550  174.759995  58.599998  49.689999  36.630001  ...   \n",
       "2021-12-01  22.399666  171.070007  57.279999  48.770000  36.630001  ...   \n",
       "2021-12-02  22.807837  176.639999  57.290001  49.889999  37.380001  ...   \n",
       "2021-12-03  16.257179  182.059998  57.360001  49.900002  36.509998  ...   \n",
       "\n",
       "                  Open                       Volume                           \\\n",
       "                   NKE   SWBI         SWK      ATVI   HEINY      HOG   LVMUY   \n",
       "Date                                                                           \n",
       "2021-11-29  169.830002  22.93  184.679993   7749600   36100   918700  135500   \n",
       "2021-11-30  168.789993  22.18  181.460007  19291100  114200  1583900  102100   \n",
       "2021-12-01  170.889999  23.00  178.009995  11607000   50600  1206200  139600   \n",
       "2021-12-02  167.279999  22.65  172.289993   8606200   75800  1208000   93400   \n",
       "2021-12-03  170.619995  18.35  177.110001  13282300   53700  1090100   79700   \n",
       "\n",
       "                                        \n",
       "                 NKE     SWBI      SWK  \n",
       "Date                                    \n",
       "2021-11-29   5448700   704200  1043200  \n",
       "2021-11-30  11033700  1049400  2964800  \n",
       "2021-12-01   6618200   989700  1543200  \n",
       "2021-12-02   4398900  1231700  1818000  \n",
       "2021-12-03   4878200  9082500  1903100  \n",
       "\n",
       "[5 rows x 42 columns]"
      ]
     },
     "execution_count": 2,
     "metadata": {},
     "output_type": "execute_result"
    }
   ],
   "source": [
    "# first import the data for all tickers\n",
    "tickers_list = [\"HOG\", \"LVMUY\", \"HEINY\", \"SWBI\", \"NKE\", \"SWK\",\"ATVI\"]\n",
    "data = yf.download(tickers_list,date.today()- timedelta(days=90), date.today())\n",
    "#view first 5\n",
    "data.head(5)"
   ]
  },
  {
   "cell_type": "code",
   "execution_count": 72,
   "id": "4deb8a2f-04e9-4b56-af32-5d9c330fbacd",
   "metadata": {},
   "outputs": [],
   "source": [
    "#to find the annual volatility you must:\n",
    "     # find the daily stock for the trailing 3 months \n",
    "     # calculate the percent change\n",
    "     # calculate the standard deviation of percent change, this gives you daily volatility\n",
    "     # calculate annualized vol "
   ]
  },
  {
   "cell_type": "code",
   "execution_count": null,
   "id": "003a392d-cd32-49a3-a78c-dc5516b6dd81",
   "metadata": {},
   "outputs": [],
   "source": []
  },
  {
   "cell_type": "code",
   "execution_count": 3,
   "id": "4d1acfb5-38ca-419b-b093-958afe52234f",
   "metadata": {},
   "outputs": [
    {
     "data": {
      "text/html": [
       "<div>\n",
       "<style scoped>\n",
       "    .dataframe tbody tr th:only-of-type {\n",
       "        vertical-align: middle;\n",
       "    }\n",
       "\n",
       "    .dataframe tbody tr th {\n",
       "        vertical-align: top;\n",
       "    }\n",
       "\n",
       "    .dataframe thead th {\n",
       "        text-align: right;\n",
       "    }\n",
       "</style>\n",
       "<table border=\"1\" class=\"dataframe\">\n",
       "  <thead>\n",
       "    <tr style=\"text-align: right;\">\n",
       "      <th></th>\n",
       "      <th>ATVI</th>\n",
       "      <th>HEINY</th>\n",
       "      <th>HOG</th>\n",
       "      <th>LVMUY</th>\n",
       "      <th>NKE</th>\n",
       "      <th>SWBI</th>\n",
       "      <th>SWK</th>\n",
       "    </tr>\n",
       "    <tr>\n",
       "      <th>Date</th>\n",
       "      <th></th>\n",
       "      <th></th>\n",
       "      <th></th>\n",
       "      <th></th>\n",
       "      <th></th>\n",
       "      <th></th>\n",
       "      <th></th>\n",
       "    </tr>\n",
       "  </thead>\n",
       "  <tbody>\n",
       "    <tr>\n",
       "      <th>2021-11-29</th>\n",
       "      <td>NaN</td>\n",
       "      <td>NaN</td>\n",
       "      <td>NaN</td>\n",
       "      <td>NaN</td>\n",
       "      <td>NaN</td>\n",
       "      <td>NaN</td>\n",
       "      <td>NaN</td>\n",
       "    </tr>\n",
       "    <tr>\n",
       "      <th>2021-11-30</th>\n",
       "      <td>-2.835355</td>\n",
       "      <td>-6.139025</td>\n",
       "      <td>-2.760804</td>\n",
       "      <td>-0.842298</td>\n",
       "      <td>-0.370866</td>\n",
       "      <td>2.385243</td>\n",
       "      <td>-4.690230</td>\n",
       "    </tr>\n",
       "    <tr>\n",
       "      <th>2021-12-01</th>\n",
       "      <td>-2.252559</td>\n",
       "      <td>-1.851476</td>\n",
       "      <td>0.000000</td>\n",
       "      <td>-1.372135</td>\n",
       "      <td>-1.500829</td>\n",
       "      <td>-1.098897</td>\n",
       "      <td>-2.111460</td>\n",
       "    </tr>\n",
       "    <tr>\n",
       "      <th>2021-12-02</th>\n",
       "      <td>0.017462</td>\n",
       "      <td>2.296492</td>\n",
       "      <td>2.047498</td>\n",
       "      <td>1.547971</td>\n",
       "      <td>1.979606</td>\n",
       "      <td>1.822218</td>\n",
       "      <td>3.255972</td>\n",
       "    </tr>\n",
       "    <tr>\n",
       "      <th>2021-12-03</th>\n",
       "      <td>0.122185</td>\n",
       "      <td>0.020048</td>\n",
       "      <td>-2.327448</td>\n",
       "      <td>-0.864668</td>\n",
       "      <td>0.321163</td>\n",
       "      <td>-28.721081</td>\n",
       "      <td>3.068387</td>\n",
       "    </tr>\n",
       "    <tr>\n",
       "      <th>...</th>\n",
       "      <td>...</td>\n",
       "      <td>...</td>\n",
       "      <td>...</td>\n",
       "      <td>...</td>\n",
       "      <td>...</td>\n",
       "      <td>...</td>\n",
       "      <td>...</td>\n",
       "    </tr>\n",
       "    <tr>\n",
       "      <th>2022-02-18</th>\n",
       "      <td>0.098804</td>\n",
       "      <td>0.286584</td>\n",
       "      <td>0.454326</td>\n",
       "      <td>0.875537</td>\n",
       "      <td>0.105038</td>\n",
       "      <td>-0.943395</td>\n",
       "      <td>-0.614288</td>\n",
       "    </tr>\n",
       "    <tr>\n",
       "      <th>2022-02-22</th>\n",
       "      <td>0.222086</td>\n",
       "      <td>-5.536707</td>\n",
       "      <td>-3.165906</td>\n",
       "      <td>-2.648833</td>\n",
       "      <td>-3.329832</td>\n",
       "      <td>-4.047610</td>\n",
       "      <td>-1.940787</td>\n",
       "    </tr>\n",
       "    <tr>\n",
       "      <th>2022-02-23</th>\n",
       "      <td>-0.640163</td>\n",
       "      <td>-0.056719</td>\n",
       "      <td>-0.245819</td>\n",
       "      <td>-1.327430</td>\n",
       "      <td>-0.984153</td>\n",
       "      <td>-0.682386</td>\n",
       "      <td>-1.903554</td>\n",
       "    </tr>\n",
       "    <tr>\n",
       "      <th>2022-02-24</th>\n",
       "      <td>0.371705</td>\n",
       "      <td>-3.802501</td>\n",
       "      <td>-1.108927</td>\n",
       "      <td>-2.596884</td>\n",
       "      <td>0.248481</td>\n",
       "      <td>3.497810</td>\n",
       "      <td>0.456205</td>\n",
       "    </tr>\n",
       "    <tr>\n",
       "      <th>2022-02-25</th>\n",
       "      <td>0.530799</td>\n",
       "      <td>3.067849</td>\n",
       "      <td>2.171520</td>\n",
       "      <td>3.944208</td>\n",
       "      <td>1.188310</td>\n",
       "      <td>2.413999</td>\n",
       "      <td>3.549957</td>\n",
       "    </tr>\n",
       "  </tbody>\n",
       "</table>\n",
       "<p>62 rows × 7 columns</p>\n",
       "</div>"
      ],
      "text/plain": [
       "                ATVI     HEINY       HOG     LVMUY       NKE       SWBI  \\\n",
       "Date                                                                      \n",
       "2021-11-29       NaN       NaN       NaN       NaN       NaN        NaN   \n",
       "2021-11-30 -2.835355 -6.139025 -2.760804 -0.842298 -0.370866   2.385243   \n",
       "2021-12-01 -2.252559 -1.851476  0.000000 -1.372135 -1.500829  -1.098897   \n",
       "2021-12-02  0.017462  2.296492  2.047498  1.547971  1.979606   1.822218   \n",
       "2021-12-03  0.122185  0.020048 -2.327448 -0.864668  0.321163 -28.721081   \n",
       "...              ...       ...       ...       ...       ...        ...   \n",
       "2022-02-18  0.098804  0.286584  0.454326  0.875537  0.105038  -0.943395   \n",
       "2022-02-22  0.222086 -5.536707 -3.165906 -2.648833 -3.329832  -4.047610   \n",
       "2022-02-23 -0.640163 -0.056719 -0.245819 -1.327430 -0.984153  -0.682386   \n",
       "2022-02-24  0.371705 -3.802501 -1.108927 -2.596884  0.248481   3.497810   \n",
       "2022-02-25  0.530799  3.067849  2.171520  3.944208  1.188310   2.413999   \n",
       "\n",
       "                 SWK  \n",
       "Date                  \n",
       "2021-11-29       NaN  \n",
       "2021-11-30 -4.690230  \n",
       "2021-12-01 -2.111460  \n",
       "2021-12-02  3.255972  \n",
       "2021-12-03  3.068387  \n",
       "...              ...  \n",
       "2022-02-18 -0.614288  \n",
       "2022-02-22 -1.940787  \n",
       "2022-02-23 -1.903554  \n",
       "2022-02-24  0.456205  \n",
       "2022-02-25  3.549957  \n",
       "\n",
       "[62 rows x 7 columns]"
      ]
     },
     "execution_count": 3,
     "metadata": {},
     "output_type": "execute_result"
    }
   ],
   "source": [
    "#pct_change did not give me the values in terms of actual percentage because its not multiplied by 100\n",
    "returns= data['Adj Close'].pct_change() * 100\n",
    "returns\n",
    "\n"
   ]
  },
  {
   "cell_type": "code",
   "execution_count": 4,
   "id": "64db510b-b1c3-4fa0-ab75-6e15218339a7",
   "metadata": {},
   "outputs": [
    {
     "data": {
      "text/plain": [
       "ATVI     3.537958\n",
       "HEINY    1.847600\n",
       "HOG      2.928580\n",
       "LVMUY    1.952148\n",
       "NKE      1.648794\n",
       "SWBI     4.354483\n",
       "SWK      1.997469\n",
       "dtype: float64"
      ]
     },
     "execution_count": 4,
     "metadata": {},
     "output_type": "execute_result"
    }
   ],
   "source": [
    "# volatility is the std of returns \n",
    "VOL_D = returns.std() \n",
    "VOL_D"
   ]
  },
  {
   "cell_type": "code",
   "execution_count": 5,
   "id": "02ca3e85-92b4-48f1-9e93-57cf3deb5791",
   "metadata": {},
   "outputs": [
    {
     "data": {
      "text/plain": [
       "ATVI     56.163338\n",
       "HEINY    29.329737\n",
       "HOG      46.489762\n",
       "LVMUY    30.989391\n",
       "NKE      26.173791\n",
       "SWBI     69.125277\n",
       "SWK      31.708843\n",
       "dtype: float64"
      ]
     },
     "execution_count": 5,
     "metadata": {},
     "output_type": "execute_result"
    }
   ],
   "source": [
    "#equation for annualized vol\n",
    "VOL_A = VOL_D * math.sqrt(252)\n",
    "VOL_A"
   ]
  },
  {
   "cell_type": "code",
   "execution_count": 77,
   "id": "a74a4335-9574-45aa-80fc-4cac377f60ba",
   "metadata": {},
   "outputs": [
    {
     "name": "stdout",
     "output_type": "stream",
     "text": [
      "[*********************100%***********************]  10 of 10 completed\n"
     ]
    },
    {
     "data": {
      "text/plain": [
       "yfinance.Ticker object <HOG>"
      ]
     },
     "execution_count": 77,
     "metadata": {},
     "output_type": "execute_result"
    }
   ],
   "source": [
    "#Beta = covariance / variance\n",
    "\n",
    "tickers_list2 = [\"HOG\", \"LVMUY\", \"HEINY\", \"SWBI\", \"NKE\", \"SWK\",\"ATVI\", \"^GSPC\", \"^RUT\", \"^DJI\" ]\n",
    "data2 = yf.download(tickers_list2,date.today()- timedelta(days=90), date.today())\n",
    "#view first 5\n",
    "data2['Adj Close'].head(5)\n"
   ]
  },
  {
   "cell_type": "code",
   "execution_count": 7,
   "id": "63108f44-50ef-49ee-84b7-ebf65a2f2b3c",
   "metadata": {},
   "outputs": [],
   "source": [
    "returns2= data2['Adj Close'].pct_change() * 100\n",
    "cov=returns2.cov()\n",
    "SPY_var=returns2['^GSPC'].var()\n",
    "IWM_var=returns2['^RUT'].var()\n",
    "DIA_var=returns2['^DJI'].var()\n"
   ]
  },
  {
   "cell_type": "code",
   "execution_count": 9,
   "id": "27e14681-eecd-4011-8002-10b62b4f5083",
   "metadata": {},
   "outputs": [],
   "source": [
    "SPY_betas=(cov.loc['HOG', '^GSPC']/SPY_var, cov.loc['HEINY', '^GSPC']/SPY_var\n",
    ",cov.loc['LVMUY', '^GSPC']/SPY_var\n",
    ",cov.loc['SWBI', '^GSPC']/SPY_var\n",
    ",cov.loc['NKE', '^GSPC']/SPY_var\n",
    ",cov.loc['SWK', '^GSPC']/SPY_var\n",
    ",cov.loc['ATVI', '^GSPC']/SPY_var)\n",
    "SPY_betas"
   ]
  },
  {
   "cell_type": "code",
   "execution_count": 10,
   "id": "03ff56a0-80b5-4be2-bdeb-faeeb64fd16c",
   "metadata": {},
   "outputs": [
    {
     "data": {
      "text/plain": [
       "(0.9408728899590528,\n",
       " 0.3937082875837343,\n",
       " 0.38321837181739127,\n",
       " 1.2098909549164139,\n",
       " 0.5836335828158733,\n",
       " 0.5821474047445654,\n",
       " -0.1796023933932304)"
      ]
     },
     "execution_count": 10,
     "metadata": {},
     "output_type": "execute_result"
    }
   ],
   "source": [
    "IWM_betas=(cov.loc['HOG', '^RUT']/IWM_var\n",
    ",cov.loc['HEINY', '^RUT']/IWM_var\n",
    ",cov.loc['LVMUY', '^RUT']/IWM_var\n",
    ",cov.loc['SWBI', '^RUT']/IWM_var\n",
    ",cov.loc['NKE', '^RUT']/IWM_var\n",
    ",cov.loc['SWK', '^RUT']/IWM_var\n",
    ",cov.loc['ATVI', '^RUT']/IWM_var)\n",
    "IWM_betas\n"
   ]
  },
  {
   "cell_type": "code",
   "execution_count": 11,
   "id": "9b6a20c8-8274-45ef-898f-d806ce45cc01",
   "metadata": {},
   "outputs": [
    {
     "data": {
      "text/plain": [
       "(1.5792258842576261,\n",
       " 0.9801901446714492,\n",
       " 1.0952540419040433,\n",
       " 1.3702921482468238,\n",
       " 1.0011650025652412,\n",
       " 1.3068932850671773,\n",
       " -0.07521517254500677)"
      ]
     },
     "execution_count": 11,
     "metadata": {},
     "output_type": "execute_result"
    }
   ],
   "source": [
    "DIA_betas=(cov.loc['HOG', '^DJI']/DIA_var\n",
    ",cov.loc['HEINY', '^DJI']/DIA_var\n",
    ",cov.loc['LVMUY', '^DJI']/DIA_var\n",
    ",cov.loc['SWBI', '^DJI']/DIA_var\n",
    ",cov.loc['NKE', '^DJI']/DIA_var\n",
    ",cov.loc['SWK', '^DJI']/DIA_var\n",
    ",cov.loc['ATVI', '^DJI']/DIA_var)\n",
    "DIA_betas\n"
   ]
  },
  {
   "cell_type": "code",
   "execution_count": null,
   "id": "07fa775f-1b57-4fa9-9e0e-1562ccdf10bf",
   "metadata": {},
   "outputs": [],
   "source": [
    "#"
   ]
  },
  {
   "cell_type": "code",
   "execution_count": null,
   "id": "24f0cd2f-6e29-4e23-bb91-0b0279fb4837",
   "metadata": {},
   "outputs": [],
   "source": []
  },
  {
   "cell_type": "code",
   "execution_count": null,
   "id": "b31b672a-6a09-4ff7-86df-ca5259a01e4e",
   "metadata": {},
   "outputs": [],
   "source": [
    "# maxdrawdown (52-week-low minus 52-week-high)/ 52 week high"
   ]
  },
  {
   "cell_type": "code",
   "execution_count": 36,
   "id": "68e5cdf6-efd4-41e0-aaac-ff7fdfd23a24",
   "metadata": {},
   "outputs": [
    {
     "name": "stdout",
     "output_type": "stream",
     "text": [
      "[*********************100%***********************]  7 of 7 completed\n"
     ]
    },
    {
     "data": {
      "text/html": [
       "<div>\n",
       "<style scoped>\n",
       "    .dataframe tbody tr th:only-of-type {\n",
       "        vertical-align: middle;\n",
       "    }\n",
       "\n",
       "    .dataframe tbody tr th {\n",
       "        vertical-align: top;\n",
       "    }\n",
       "\n",
       "    .dataframe thead tr th {\n",
       "        text-align: left;\n",
       "    }\n",
       "\n",
       "    .dataframe thead tr:last-of-type th {\n",
       "        text-align: right;\n",
       "    }\n",
       "</style>\n",
       "<table border=\"1\" class=\"dataframe\">\n",
       "  <thead>\n",
       "    <tr>\n",
       "      <th></th>\n",
       "      <th colspan=\"7\" halign=\"left\">Adj Close</th>\n",
       "      <th colspan=\"3\" halign=\"left\">Close</th>\n",
       "      <th>...</th>\n",
       "      <th colspan=\"3\" halign=\"left\">Open</th>\n",
       "      <th colspan=\"7\" halign=\"left\">Volume</th>\n",
       "    </tr>\n",
       "    <tr>\n",
       "      <th></th>\n",
       "      <th>ATVI</th>\n",
       "      <th>HEINY</th>\n",
       "      <th>HOG</th>\n",
       "      <th>LVMUY</th>\n",
       "      <th>NKE</th>\n",
       "      <th>SWBI</th>\n",
       "      <th>SWK</th>\n",
       "      <th>ATVI</th>\n",
       "      <th>HEINY</th>\n",
       "      <th>HOG</th>\n",
       "      <th>...</th>\n",
       "      <th>NKE</th>\n",
       "      <th>SWBI</th>\n",
       "      <th>SWK</th>\n",
       "      <th>ATVI</th>\n",
       "      <th>HEINY</th>\n",
       "      <th>HOG</th>\n",
       "      <th>LVMUY</th>\n",
       "      <th>NKE</th>\n",
       "      <th>SWBI</th>\n",
       "      <th>SWK</th>\n",
       "    </tr>\n",
       "    <tr>\n",
       "      <th>Date</th>\n",
       "      <th></th>\n",
       "      <th></th>\n",
       "      <th></th>\n",
       "      <th></th>\n",
       "      <th></th>\n",
       "      <th></th>\n",
       "      <th></th>\n",
       "      <th></th>\n",
       "      <th></th>\n",
       "      <th></th>\n",
       "      <th></th>\n",
       "      <th></th>\n",
       "      <th></th>\n",
       "      <th></th>\n",
       "      <th></th>\n",
       "      <th></th>\n",
       "      <th></th>\n",
       "      <th></th>\n",
       "      <th></th>\n",
       "      <th></th>\n",
       "      <th></th>\n",
       "    </tr>\n",
       "  </thead>\n",
       "  <tbody>\n",
       "    <tr>\n",
       "      <th>2021-03-01</th>\n",
       "      <td>98.244316</td>\n",
       "      <td>49.568127</td>\n",
       "      <td>35.587978</td>\n",
       "      <td>128.688507</td>\n",
       "      <td>136.900421</td>\n",
       "      <td>17.660492</td>\n",
       "      <td>177.954254</td>\n",
       "      <td>98.720001</td>\n",
       "      <td>49.939999</td>\n",
       "      <td>36.130001</td>\n",
       "      <td>...</td>\n",
       "      <td>135.639999</td>\n",
       "      <td>17.490000</td>\n",
       "      <td>176.720001</td>\n",
       "      <td>5135600</td>\n",
       "      <td>16400</td>\n",
       "      <td>1171400</td>\n",
       "      <td>136200</td>\n",
       "      <td>5717800</td>\n",
       "      <td>978400</td>\n",
       "      <td>1169200</td>\n",
       "    </tr>\n",
       "    <tr>\n",
       "      <th>2021-03-02</th>\n",
       "      <td>96.283806</td>\n",
       "      <td>49.151253</td>\n",
       "      <td>35.499332</td>\n",
       "      <td>129.559021</td>\n",
       "      <td>136.273865</td>\n",
       "      <td>17.098120</td>\n",
       "      <td>182.621445</td>\n",
       "      <td>96.750000</td>\n",
       "      <td>49.520000</td>\n",
       "      <td>36.040001</td>\n",
       "      <td>...</td>\n",
       "      <td>137.559998</td>\n",
       "      <td>17.990000</td>\n",
       "      <td>180.699997</td>\n",
       "      <td>3985000</td>\n",
       "      <td>21500</td>\n",
       "      <td>1266600</td>\n",
       "      <td>99800</td>\n",
       "      <td>5292700</td>\n",
       "      <td>1497400</td>\n",
       "      <td>2358000</td>\n",
       "    </tr>\n",
       "    <tr>\n",
       "      <th>2021-03-03</th>\n",
       "      <td>93.258453</td>\n",
       "      <td>48.793938</td>\n",
       "      <td>35.981979</td>\n",
       "      <td>129.746979</td>\n",
       "      <td>133.528885</td>\n",
       "      <td>16.091766</td>\n",
       "      <td>181.922348</td>\n",
       "      <td>93.709999</td>\n",
       "      <td>49.160000</td>\n",
       "      <td>36.529999</td>\n",
       "      <td>...</td>\n",
       "      <td>137.089996</td>\n",
       "      <td>17.469999</td>\n",
       "      <td>185.149994</td>\n",
       "      <td>5283200</td>\n",
       "      <td>35000</td>\n",
       "      <td>1514000</td>\n",
       "      <td>127500</td>\n",
       "      <td>4888400</td>\n",
       "      <td>2264400</td>\n",
       "      <td>1632200</td>\n",
       "    </tr>\n",
       "    <tr>\n",
       "      <th>2021-03-04</th>\n",
       "      <td>91.098907</td>\n",
       "      <td>50.620235</td>\n",
       "      <td>34.593128</td>\n",
       "      <td>125.166855</td>\n",
       "      <td>131.320969</td>\n",
       "      <td>15.578726</td>\n",
       "      <td>178.545044</td>\n",
       "      <td>91.540001</td>\n",
       "      <td>51.000000</td>\n",
       "      <td>35.119999</td>\n",
       "      <td>...</td>\n",
       "      <td>134.000000</td>\n",
       "      <td>16.420000</td>\n",
       "      <td>184.339996</td>\n",
       "      <td>5777200</td>\n",
       "      <td>32500</td>\n",
       "      <td>1944900</td>\n",
       "      <td>202600</td>\n",
       "      <td>7181500</td>\n",
       "      <td>3227200</td>\n",
       "      <td>1455800</td>\n",
       "    </tr>\n",
       "    <tr>\n",
       "      <th>2021-03-05</th>\n",
       "      <td>92.133896</td>\n",
       "      <td>51.940331</td>\n",
       "      <td>34.445385</td>\n",
       "      <td>125.631798</td>\n",
       "      <td>132.623856</td>\n",
       "      <td>15.854978</td>\n",
       "      <td>182.463898</td>\n",
       "      <td>92.580002</td>\n",
       "      <td>52.330002</td>\n",
       "      <td>34.970001</td>\n",
       "      <td>...</td>\n",
       "      <td>133.539993</td>\n",
       "      <td>16.110001</td>\n",
       "      <td>182.919998</td>\n",
       "      <td>8348600</td>\n",
       "      <td>20000</td>\n",
       "      <td>2538600</td>\n",
       "      <td>260900</td>\n",
       "      <td>5957100</td>\n",
       "      <td>4421000</td>\n",
       "      <td>1876800</td>\n",
       "    </tr>\n",
       "  </tbody>\n",
       "</table>\n",
       "<p>5 rows × 42 columns</p>\n",
       "</div>"
      ],
      "text/plain": [
       "            Adj Close                                                \\\n",
       "                 ATVI      HEINY        HOG       LVMUY         NKE   \n",
       "Date                                                                  \n",
       "2021-03-01  98.244316  49.568127  35.587978  128.688507  136.900421   \n",
       "2021-03-02  96.283806  49.151253  35.499332  129.559021  136.273865   \n",
       "2021-03-03  93.258453  48.793938  35.981979  129.746979  133.528885   \n",
       "2021-03-04  91.098907  50.620235  34.593128  125.166855  131.320969   \n",
       "2021-03-05  92.133896  51.940331  34.445385  125.631798  132.623856   \n",
       "\n",
       "                                       Close                        ...  \\\n",
       "                 SWBI         SWK       ATVI      HEINY        HOG  ...   \n",
       "Date                                                                ...   \n",
       "2021-03-01  17.660492  177.954254  98.720001  49.939999  36.130001  ...   \n",
       "2021-03-02  17.098120  182.621445  96.750000  49.520000  36.040001  ...   \n",
       "2021-03-03  16.091766  181.922348  93.709999  49.160000  36.529999  ...   \n",
       "2021-03-04  15.578726  178.545044  91.540001  51.000000  35.119999  ...   \n",
       "2021-03-05  15.854978  182.463898  92.580002  52.330002  34.970001  ...   \n",
       "\n",
       "                  Open                          Volume                  \\\n",
       "                   NKE       SWBI         SWK     ATVI  HEINY      HOG   \n",
       "Date                                                                     \n",
       "2021-03-01  135.639999  17.490000  176.720001  5135600  16400  1171400   \n",
       "2021-03-02  137.559998  17.990000  180.699997  3985000  21500  1266600   \n",
       "2021-03-03  137.089996  17.469999  185.149994  5283200  35000  1514000   \n",
       "2021-03-04  134.000000  16.420000  184.339996  5777200  32500  1944900   \n",
       "2021-03-05  133.539993  16.110001  182.919998  8348600  20000  2538600   \n",
       "\n",
       "                                               \n",
       "             LVMUY      NKE     SWBI      SWK  \n",
       "Date                                           \n",
       "2021-03-01  136200  5717800   978400  1169200  \n",
       "2021-03-02   99800  5292700  1497400  2358000  \n",
       "2021-03-03  127500  4888400  2264400  1632200  \n",
       "2021-03-04  202600  7181500  3227200  1455800  \n",
       "2021-03-05  260900  5957100  4421000  1876800  \n",
       "\n",
       "[5 rows x 42 columns]"
      ]
     },
     "execution_count": 36,
     "metadata": {},
     "output_type": "execute_result"
    }
   ],
   "source": [
    "tickers_list = [\"HOG\", \"LVMUY\", \"HEINY\", \"SWBI\", \"NKE\", \"SWK\",\"ATVI\"]\n",
    "data3 = yf.download(tickers_list,date.today()- timedelta(days=365), date.today())\n",
    "#view first 5\n",
    "data3.head(5)\n",
    "\n"
   ]
  },
  {
   "cell_type": "code",
   "execution_count": null,
   "id": "27b79479-e747-452a-ae2a-37afe0935207",
   "metadata": {},
   "outputs": [],
   "source": []
  },
  {
   "cell_type": "code",
   "execution_count": 13,
   "id": "379a1580-ea0a-4597-8f4d-8985501e480c",
   "metadata": {},
   "outputs": [
    {
     "data": {
      "text/plain": [
       "(0.3828275067230119,\n",
       " 0.21186166774402065,\n",
       " 0.2771799197254377,\n",
       " 0.6339308255491037,\n",
       " 0.29960915689558903,\n",
       " 0.3279555555555555,\n",
       " 0.4329378644681279)"
      ]
     },
     "execution_count": 13,
     "metadata": {},
     "output_type": "execute_result"
    }
   ],
   "source": [
    "High=(HOG.info['fiftyTwoWeekHigh'], HEINY.info['fiftyTwoWeekHigh'],\n",
    "         LVMUY.info['fiftyTwoWeekHigh'], SWBI.info['fiftyTwoWeekHigh'],\n",
    "          NKE.info['fiftyTwoWeekHigh'],SWK.info['fiftyTwoWeekHigh'],\n",
    "     ATVI.info['fiftyTwoWeekHigh'])\n",
    "\n",
    "Low=(HOG.info['fiftyTwoWeekLow'], HEINY.info['fiftyTwoWeekLow'],\n",
    "     LVMUY.info['fiftyTwoWeekLow'], SWBI.info['fiftyTwoWeekLow'],\n",
    "     NKE.info['fiftyTwoWeekLow'], SWK.info['fiftyTwoWeekLow'],\n",
    "   ATVI.info['fiftyTwoWeekLow'])\n",
    "\n",
    "maxdrawdown=((HOG.info['fiftyTwoWeekHigh'] - HOG.info['fiftyTwoWeekLow'])/HOG.info['fiftyTwoWeekHigh'],\n",
    "             (HEINY.info['fiftyTwoWeekHigh'] - HEINY.info['fiftyTwoWeekLow'])/HEINY.info['fiftyTwoWeekHigh'],\n",
    "            (LVMUY.info['fiftyTwoWeekHigh'] - LVMUY.info['fiftyTwoWeekLow'])/LVMUY.info['fiftyTwoWeekHigh'],\n",
    "            (SWBI.info['fiftyTwoWeekHigh'] - SWBI.info['fiftyTwoWeekLow'])/SWBI.info['fiftyTwoWeekHigh'],\n",
    "            (NKE.info['fiftyTwoWeekHigh'] - NKE.info['fiftyTwoWeekLow'])/NKE.info['fiftyTwoWeekHigh'],\n",
    "            (SWK.info['fiftyTwoWeekHigh'] - SWK.info['fiftyTwoWeekLow'])/SWK.info['fiftyTwoWeekHigh'],\n",
    "            (ATVI.info['fiftyTwoWeekHigh'] - ATVI.info['fiftyTwoWeekLow'])/ATVI.info['fiftyTwoWeekHigh'])\n",
    "maxdrawdown\n",
    "\n",
    "\n"
   ]
  },
  {
   "cell_type": "code",
   "execution_count": 14,
   "id": "60ba7566-da4e-4e00-bb07-2338e0882c48",
   "metadata": {},
   "outputs": [
    {
     "data": {
      "text/plain": [
       "ATVI     0.313703\n",
       "HEINY    0.123025\n",
       "HOG      0.196281\n",
       "LVMUY    0.189298\n",
       "NKE      0.170532\n",
       "SWBI     0.297564\n",
       "SWK      0.208047\n",
       "dtype: float64"
      ]
     },
     "execution_count": 14,
     "metadata": {},
     "output_type": "execute_result"
    }
   ],
   "source": [
    "# averagedrawdown is (52-week-low minus 52-week-average)/ 52-week-average\n",
    "\n",
    "\n",
    "(data3['Adj Close'].mean() - data3['Low'].min())/ data3['Adj Close'].mean()\n",
    "#HOG.info['fiftyTwoWeekHigh']\n",
    "#fiftytw0wk=((HOG.info['fiftyTwoWeekHigh'] + HOG.info['fiftyTwoWeekLow'])/2,\n",
    " #            (HEINY.info['fiftyTwoWeekHigh'] + HEINY.info['fiftyTwoWeekLow'])/2,\n",
    "  #          (LVMUY.info['fiftyTwoWeekHigh'] + LVMUY.info['fiftyTwoWeekLow'])/2,\n",
    "   #         (SWBI.info['fiftyTwoWeekHigh'] + SWBI.info['fiftyTwoWeekLow'])/2,\n",
    "    #        (NKE.info['fiftyTwoWeekHigh'] + NKE.info['fiftyTwoWeekLow'])/2,\n",
    "     #       (SWK.info['fiftyTwoWeekHigh'] + SWK.info['fiftyTwoWeekLow'])/2,\n",
    "      #      (ATVI.info['fiftyTwoWeekHigh'] + ATVI.info['fiftyTwoWeekLow'])/2))\n"
   ]
  },
  {
   "cell_type": "code",
   "execution_count": 16,
   "id": "350bce8a-52b4-496a-a525-ec26de763896",
   "metadata": {},
   "outputs": [
    {
     "name": "stdout",
     "output_type": "stream",
     "text": [
      "[*********************100%***********************]  7 of 7 completed\n"
     ]
    },
    {
     "data": {
      "text/plain": [
       "ATVI     659.784364\n",
       "HEINY    130.384346\n",
       "HOG        9.027569\n",
       "LVMUY    497.890614\n",
       "NKE      471.853401\n",
       "SWBI     323.931552\n",
       "SWK      158.500592\n",
       "dtype: float64"
      ]
     },
     "execution_count": 16,
     "metadata": {},
     "output_type": "execute_result"
    }
   ],
   "source": [
    "#total return for 10 years\n",
    "data4 = yf.download(tickers_list,date.today()- timedelta(days=3650), date.today())\n",
    "data4\n",
    "\n",
    "Tenyr_Return = (data4['Adj Close'].iloc[-1] - data4['Adj Close'].iloc[0]) / data4['Adj Close'].iloc[0]*100\n",
    "Tenyr_Return"
   ]
  },
  {
   "cell_type": "code",
   "execution_count": 17,
   "id": "b3cf35be-ab5d-45c2-be89-5172fac4745a",
   "metadata": {},
   "outputs": [
    {
     "data": {
      "text/plain": [
       "ATVI     2.610242\n",
       "HEINY    1.954622\n",
       "HOG      0.919014\n",
       "LVMUY    2.495871\n",
       "NKE      2.474072\n",
       "SWBI     2.321625\n",
       "SWK      2.033109\n",
       "dtype: float64"
      ]
     },
     "execution_count": 17,
     "metadata": {},
     "output_type": "execute_result"
    }
   ],
   "source": [
    "#(1 + Return) ^ (1 / N) - 1 = Annualized Return\n",
    "Annualized_Return=((1 + Tenyr_Return) ** (1 / 252) - 1 ) *100\n",
    "Annualized_Return"
   ]
  },
  {
   "cell_type": "code",
   "execution_count": 19,
   "id": "486e0ea6-a113-46fe-9c9c-062fa3f0ee76",
   "metadata": {},
   "outputs": [],
   "source": [
    "Equal_weight_risk_analysis = pd.DataFrame({\"Ticker\": [\"HOG\", \"HEINY\", \"LVMUY\", \"SWBI\", \"NKE\", \"SWK\", \"ATVI\"],\n",
    "\n",
    "                   \"Weight\": [\"14.29%\", \"14.29%\",\"14.29%\",\"14.29%\",\"14.29%\",\"14.29%\",\"14.29%\",],\n",
    "\n",
    "                   \"VOL_A\": [46.489767, 29.329737, 30.989391, 69.125277, 26.173791, 31.708843, 56.163338],\n",
    "\n",
    "                   \"Beta_vs_SPY\": [1.1656705408002237, 0.599889520918039, 0.8314465394664169, \n",
    "                                   1.322498727252728,  0.8168558026540738, 0.887084896743501, \n",
    "                                   -0.07054900516380778],\n",
    "\n",
    "                   \"Beta_vs_IWM\": [0.9408726160093591, 0.3937082875837343, 0.38321837181739127,\n",
    "                                   1.2098909549164139, 0.5836335828158733, 0.5821474047445654,\n",
    "                                   -0.1796023933932304],\n",
    "\n",
    "                   \"Beta_vs_DIA\": [1.579225190223677, 0.9801901446714492, 1.0952540419040433,\n",
    "                                   1.3702921482468238, 1.0011650025652412, 1.3068932850671773,\n",
    "                                   -0.07521517254500677],\n",
    "\n",
    "                   \"Average Drawdown\": [0.20, 0.12, 0.19, 0.30, 0.17, 0.21, 0.31],\n",
    "                  \n",
    "                   \"Maximum Drawdown\": [0.3828275067230119, 0.21186166774402065, 0.2771799197254377,\n",
    "                                        0.6339308255491037, 0.29960915689558903, 0.3279555555555555,\n",
    "                                        0.4329378644681279], \n",
    "                  \n",
    "                   \"Total Return\": [9.03, 130.38, 497.89, 323.93, 471.85, 158.50, 659.78 ], \n",
    "                  \n",
    "                   \"Annualized Total Return\": [0.92, 1.95, 2.50, 2.32, 2.47, 2.03, 2.61]})\n",
    "\n",
    "\n"
   ]
  },
  {
   "cell_type": "code",
   "execution_count": 20,
   "id": "eab3545f-609b-4f02-861b-05f062a415c5",
   "metadata": {},
   "outputs": [
    {
     "data": {
      "text/html": [
       "<div>\n",
       "<style scoped>\n",
       "    .dataframe tbody tr th:only-of-type {\n",
       "        vertical-align: middle;\n",
       "    }\n",
       "\n",
       "    .dataframe tbody tr th {\n",
       "        vertical-align: top;\n",
       "    }\n",
       "\n",
       "    .dataframe thead th {\n",
       "        text-align: right;\n",
       "    }\n",
       "</style>\n",
       "<table border=\"1\" class=\"dataframe\">\n",
       "  <thead>\n",
       "    <tr style=\"text-align: right;\">\n",
       "      <th></th>\n",
       "      <th>Ticker</th>\n",
       "      <th>Weight</th>\n",
       "      <th>VOL_A</th>\n",
       "      <th>Beta_vs_SPY</th>\n",
       "      <th>Beta_vs_IWM</th>\n",
       "      <th>Beta_vs_DIA</th>\n",
       "      <th>Average Drawdown</th>\n",
       "      <th>Maximum Drawdown</th>\n",
       "      <th>Total Return</th>\n",
       "      <th>Annualized Total Return</th>\n",
       "    </tr>\n",
       "  </thead>\n",
       "  <tbody>\n",
       "    <tr>\n",
       "      <th>0</th>\n",
       "      <td>HOG</td>\n",
       "      <td>14.29%</td>\n",
       "      <td>46.489767</td>\n",
       "      <td>1.165671</td>\n",
       "      <td>0.940873</td>\n",
       "      <td>1.579225</td>\n",
       "      <td>0.20</td>\n",
       "      <td>0.382828</td>\n",
       "      <td>9.03</td>\n",
       "      <td>0.92</td>\n",
       "    </tr>\n",
       "    <tr>\n",
       "      <th>1</th>\n",
       "      <td>HEINY</td>\n",
       "      <td>14.29%</td>\n",
       "      <td>29.329737</td>\n",
       "      <td>0.599890</td>\n",
       "      <td>0.393708</td>\n",
       "      <td>0.980190</td>\n",
       "      <td>0.12</td>\n",
       "      <td>0.211862</td>\n",
       "      <td>130.38</td>\n",
       "      <td>1.95</td>\n",
       "    </tr>\n",
       "    <tr>\n",
       "      <th>2</th>\n",
       "      <td>LVMUY</td>\n",
       "      <td>14.29%</td>\n",
       "      <td>30.989391</td>\n",
       "      <td>0.831447</td>\n",
       "      <td>0.383218</td>\n",
       "      <td>1.095254</td>\n",
       "      <td>0.19</td>\n",
       "      <td>0.277180</td>\n",
       "      <td>497.89</td>\n",
       "      <td>2.50</td>\n",
       "    </tr>\n",
       "    <tr>\n",
       "      <th>3</th>\n",
       "      <td>SWBI</td>\n",
       "      <td>14.29%</td>\n",
       "      <td>69.125277</td>\n",
       "      <td>1.322499</td>\n",
       "      <td>1.209891</td>\n",
       "      <td>1.370292</td>\n",
       "      <td>0.30</td>\n",
       "      <td>0.633931</td>\n",
       "      <td>323.93</td>\n",
       "      <td>2.32</td>\n",
       "    </tr>\n",
       "    <tr>\n",
       "      <th>4</th>\n",
       "      <td>NKE</td>\n",
       "      <td>14.29%</td>\n",
       "      <td>26.173791</td>\n",
       "      <td>0.816856</td>\n",
       "      <td>0.583634</td>\n",
       "      <td>1.001165</td>\n",
       "      <td>0.17</td>\n",
       "      <td>0.299609</td>\n",
       "      <td>471.85</td>\n",
       "      <td>2.47</td>\n",
       "    </tr>\n",
       "    <tr>\n",
       "      <th>5</th>\n",
       "      <td>SWK</td>\n",
       "      <td>14.29%</td>\n",
       "      <td>31.708843</td>\n",
       "      <td>0.887085</td>\n",
       "      <td>0.582147</td>\n",
       "      <td>1.306893</td>\n",
       "      <td>0.21</td>\n",
       "      <td>0.327956</td>\n",
       "      <td>158.50</td>\n",
       "      <td>2.03</td>\n",
       "    </tr>\n",
       "    <tr>\n",
       "      <th>6</th>\n",
       "      <td>ATVI</td>\n",
       "      <td>14.29%</td>\n",
       "      <td>56.163338</td>\n",
       "      <td>-0.070549</td>\n",
       "      <td>-0.179602</td>\n",
       "      <td>-0.075215</td>\n",
       "      <td>0.31</td>\n",
       "      <td>0.432938</td>\n",
       "      <td>659.78</td>\n",
       "      <td>2.61</td>\n",
       "    </tr>\n",
       "  </tbody>\n",
       "</table>\n",
       "</div>"
      ],
      "text/plain": [
       "  Ticker  Weight      VOL_A  Beta_vs_SPY  Beta_vs_IWM  Beta_vs_DIA  \\\n",
       "0    HOG  14.29%  46.489767     1.165671     0.940873     1.579225   \n",
       "1  HEINY  14.29%  29.329737     0.599890     0.393708     0.980190   \n",
       "2  LVMUY  14.29%  30.989391     0.831447     0.383218     1.095254   \n",
       "3   SWBI  14.29%  69.125277     1.322499     1.209891     1.370292   \n",
       "4    NKE  14.29%  26.173791     0.816856     0.583634     1.001165   \n",
       "5    SWK  14.29%  31.708843     0.887085     0.582147     1.306893   \n",
       "6   ATVI  14.29%  56.163338    -0.070549    -0.179602    -0.075215   \n",
       "\n",
       "   Average Drawdown  Maximum Drawdown  Total Return  Annualized Total Return  \n",
       "0              0.20          0.382828          9.03                     0.92  \n",
       "1              0.12          0.211862        130.38                     1.95  \n",
       "2              0.19          0.277180        497.89                     2.50  \n",
       "3              0.30          0.633931        323.93                     2.32  \n",
       "4              0.17          0.299609        471.85                     2.47  \n",
       "5              0.21          0.327956        158.50                     2.03  \n",
       "6              0.31          0.432938        659.78                     2.61  "
      ]
     },
     "execution_count": 20,
     "metadata": {},
     "output_type": "execute_result"
    }
   ],
   "source": [
    "Equal_weight_risk_analysis"
   ]
  },
  {
   "cell_type": "code",
   "execution_count": null,
   "id": "c854e287-083c-4744-b9d5-815593c01bbf",
   "metadata": {},
   "outputs": [],
   "source": [
    "\n"
   ]
  },
  {
   "cell_type": "code",
   "execution_count": 195,
   "id": "fa48aac9-952e-483b-845a-e8ebe8c77e9f",
   "metadata": {},
   "outputs": [],
   "source": [
    "Risk_against_ETFs=  pd.DataFrame({\"ETFs\": [\"^GSPC\", \"^RUT\", \"^DJI\"],\n",
    "\n",
    "                   \"Correlation\": [ 0.857400, 0.800228, 0.850719],\n",
    "\n",
    "                 \"Covariance\": [0.000112, 0.000133, 0.000112],\n",
    "\n",
    "                 \"Tracking Erros\": [0.006438573884956095,0.008204163556955375,0.006568803703634175],\n",
    "\n",
    "                   \"Sharpe Ratio\": [1197.1507019682058, -712.1797921942156, 770.9774814277418\n",
    "                                   ],\n",
    "\n",
    "                  \"Annnualized Vol\": [0.0019251124731239078, -0.013364831966349577, 0.030560213098286243\n",
    "                                     ] })\n",
    "#sharpe ratio must be wrong"
   ]
  },
  {
   "cell_type": "code",
   "execution_count": 196,
   "id": "13537652-4b41-460c-a773-0205d24b15ea",
   "metadata": {},
   "outputs": [
    {
     "data": {
      "text/html": [
       "<div>\n",
       "<style scoped>\n",
       "    .dataframe tbody tr th:only-of-type {\n",
       "        vertical-align: middle;\n",
       "    }\n",
       "\n",
       "    .dataframe tbody tr th {\n",
       "        vertical-align: top;\n",
       "    }\n",
       "\n",
       "    .dataframe thead th {\n",
       "        text-align: right;\n",
       "    }\n",
       "</style>\n",
       "<table border=\"1\" class=\"dataframe\">\n",
       "  <thead>\n",
       "    <tr style=\"text-align: right;\">\n",
       "      <th></th>\n",
       "      <th>ETFs</th>\n",
       "      <th>Correlation</th>\n",
       "      <th>Covariance</th>\n",
       "      <th>Tracking Erros</th>\n",
       "      <th>Sharpe Ratio</th>\n",
       "      <th>Annnualized Vol</th>\n",
       "    </tr>\n",
       "  </thead>\n",
       "  <tbody>\n",
       "    <tr>\n",
       "      <th>0</th>\n",
       "      <td>^GSPC</td>\n",
       "      <td>0.857400</td>\n",
       "      <td>0.000112</td>\n",
       "      <td>0.006439</td>\n",
       "      <td>1197.150702</td>\n",
       "      <td>0.001925</td>\n",
       "    </tr>\n",
       "    <tr>\n",
       "      <th>1</th>\n",
       "      <td>^RUT</td>\n",
       "      <td>0.800228</td>\n",
       "      <td>0.000133</td>\n",
       "      <td>0.008204</td>\n",
       "      <td>-712.179792</td>\n",
       "      <td>-0.013365</td>\n",
       "    </tr>\n",
       "    <tr>\n",
       "      <th>2</th>\n",
       "      <td>^DJI</td>\n",
       "      <td>0.850719</td>\n",
       "      <td>0.000112</td>\n",
       "      <td>0.006569</td>\n",
       "      <td>770.977481</td>\n",
       "      <td>0.030560</td>\n",
       "    </tr>\n",
       "  </tbody>\n",
       "</table>\n",
       "</div>"
      ],
      "text/plain": [
       "    ETFs  Correlation  Covariance  Tracking Erros  Sharpe Ratio  \\\n",
       "0  ^GSPC     0.857400    0.000112        0.006439   1197.150702   \n",
       "1   ^RUT     0.800228    0.000133        0.008204   -712.179792   \n",
       "2   ^DJI     0.850719    0.000112        0.006569    770.977481   \n",
       "\n",
       "   Annnualized Vol  \n",
       "0         0.001925  \n",
       "1        -0.013365  \n",
       "2         0.030560  "
      ]
     },
     "execution_count": 196,
     "metadata": {},
     "output_type": "execute_result"
    }
   ],
   "source": [
    "Risk_against_ETFs\n"
   ]
  },
  {
   "cell_type": "code",
   "execution_count": 183,
   "id": "bd52c7f0-1d9c-4641-8c2d-81b378e90b34",
   "metadata": {},
   "outputs": [
    {
     "name": "stdout",
     "output_type": "stream",
     "text": [
      "[*********************100%***********************]  10 of 10 completed\n"
     ]
    },
    {
     "data": {
      "text/html": [
       "<div>\n",
       "<style scoped>\n",
       "    .dataframe tbody tr th:only-of-type {\n",
       "        vertical-align: middle;\n",
       "    }\n",
       "\n",
       "    .dataframe tbody tr th {\n",
       "        vertical-align: top;\n",
       "    }\n",
       "\n",
       "    .dataframe thead th {\n",
       "        text-align: right;\n",
       "    }\n",
       "</style>\n",
       "<table border=\"1\" class=\"dataframe\">\n",
       "  <thead>\n",
       "    <tr style=\"text-align: right;\">\n",
       "      <th></th>\n",
       "      <th>ATVI</th>\n",
       "      <th>HEINY</th>\n",
       "      <th>HOG</th>\n",
       "      <th>LVMUY</th>\n",
       "      <th>NKE</th>\n",
       "      <th>SWBI</th>\n",
       "      <th>SWK</th>\n",
       "      <th>^DJI</th>\n",
       "      <th>^GSPC</th>\n",
       "      <th>^RUT</th>\n",
       "    </tr>\n",
       "    <tr>\n",
       "      <th>Date</th>\n",
       "      <th></th>\n",
       "      <th></th>\n",
       "      <th></th>\n",
       "      <th></th>\n",
       "      <th></th>\n",
       "      <th></th>\n",
       "      <th></th>\n",
       "      <th></th>\n",
       "      <th></th>\n",
       "      <th></th>\n",
       "    </tr>\n",
       "  </thead>\n",
       "  <tbody>\n",
       "    <tr>\n",
       "      <th>2021-03-01</th>\n",
       "      <td>98.244316</td>\n",
       "      <td>49.568127</td>\n",
       "      <td>35.587978</td>\n",
       "      <td>128.688507</td>\n",
       "      <td>136.900436</td>\n",
       "      <td>17.660492</td>\n",
       "      <td>177.954254</td>\n",
       "      <td>31535.509766</td>\n",
       "      <td>3901.820068</td>\n",
       "      <td>2275.320068</td>\n",
       "    </tr>\n",
       "    <tr>\n",
       "      <th>2021-03-02</th>\n",
       "      <td>96.283806</td>\n",
       "      <td>49.151257</td>\n",
       "      <td>35.499332</td>\n",
       "      <td>129.559021</td>\n",
       "      <td>136.273865</td>\n",
       "      <td>17.098120</td>\n",
       "      <td>182.621445</td>\n",
       "      <td>31391.519531</td>\n",
       "      <td>3870.290039</td>\n",
       "      <td>2231.510010</td>\n",
       "    </tr>\n",
       "    <tr>\n",
       "      <th>2021-03-03</th>\n",
       "      <td>93.258453</td>\n",
       "      <td>48.793938</td>\n",
       "      <td>35.981979</td>\n",
       "      <td>129.746979</td>\n",
       "      <td>133.528885</td>\n",
       "      <td>16.091768</td>\n",
       "      <td>181.922363</td>\n",
       "      <td>31270.089844</td>\n",
       "      <td>3819.719971</td>\n",
       "      <td>2207.790039</td>\n",
       "    </tr>\n",
       "    <tr>\n",
       "      <th>2021-03-04</th>\n",
       "      <td>91.098907</td>\n",
       "      <td>50.620235</td>\n",
       "      <td>34.593128</td>\n",
       "      <td>125.166855</td>\n",
       "      <td>131.320984</td>\n",
       "      <td>15.578725</td>\n",
       "      <td>178.545029</td>\n",
       "      <td>30924.140625</td>\n",
       "      <td>3768.469971</td>\n",
       "      <td>2146.919922</td>\n",
       "    </tr>\n",
       "    <tr>\n",
       "      <th>2021-03-05</th>\n",
       "      <td>92.133896</td>\n",
       "      <td>51.940334</td>\n",
       "      <td>34.445385</td>\n",
       "      <td>125.631798</td>\n",
       "      <td>132.623840</td>\n",
       "      <td>15.854979</td>\n",
       "      <td>182.463913</td>\n",
       "      <td>31496.300781</td>\n",
       "      <td>3841.939941</td>\n",
       "      <td>2192.209961</td>\n",
       "    </tr>\n",
       "  </tbody>\n",
       "</table>\n",
       "</div>"
      ],
      "text/plain": [
       "                 ATVI      HEINY        HOG       LVMUY         NKE  \\\n",
       "Date                                                                  \n",
       "2021-03-01  98.244316  49.568127  35.587978  128.688507  136.900436   \n",
       "2021-03-02  96.283806  49.151257  35.499332  129.559021  136.273865   \n",
       "2021-03-03  93.258453  48.793938  35.981979  129.746979  133.528885   \n",
       "2021-03-04  91.098907  50.620235  34.593128  125.166855  131.320984   \n",
       "2021-03-05  92.133896  51.940334  34.445385  125.631798  132.623840   \n",
       "\n",
       "                 SWBI         SWK          ^DJI        ^GSPC         ^RUT  \n",
       "Date                                                                       \n",
       "2021-03-01  17.660492  177.954254  31535.509766  3901.820068  2275.320068  \n",
       "2021-03-02  17.098120  182.621445  31391.519531  3870.290039  2231.510010  \n",
       "2021-03-03  16.091768  181.922363  31270.089844  3819.719971  2207.790039  \n",
       "2021-03-04  15.578725  178.545029  30924.140625  3768.469971  2146.919922  \n",
       "2021-03-05  15.854979  182.463913  31496.300781  3841.939941  2192.209961  "
      ]
     },
     "execution_count": 183,
     "metadata": {},
     "output_type": "execute_result"
    }
   ],
   "source": [
    "tickers = [\"HOG\", \"LVMUY\", \"HEINY\", \"SWBI\", \"NKE\", \"SWK\",\"ATVI\"]\n",
    "benchmarks=[\"^GSPC\", \"^RUT\", \"^DJI\" ]\n",
    "data5 = yf.download(tickers_list+benchmarks,date.today()- timedelta(days=365), date.today())\n",
    "#view first 5\n",
    "data5['Adj Close'].head(5)"
   ]
  },
  {
   "cell_type": "code",
   "execution_count": 184,
   "id": "f95ffceb-b145-46a3-a03a-7c22dffd68c2",
   "metadata": {},
   "outputs": [
    {
     "name": "stderr",
     "output_type": "stream",
     "text": [
      "/tmp/ipykernel_98458/2890353292.py:4: SettingWithCopyWarning: \n",
      "A value is trying to be set on a copy of a slice from a DataFrame.\n",
      "Try using .loc[row_indexer,col_indexer] = value instead\n",
      "\n",
      "See the caveats in the documentation: https://pandas.pydata.org/pandas-docs/stable/user_guide/indexing.html#returning-a-view-versus-a-copy\n",
      "  adj_close['my_portfolio']=adj_close[tickers].mean(axis=1)\n"
     ]
    }
   ],
   "source": [
    "adj_close= data5['Adj Close']\n",
    "adj_close[benchmarks]\n",
    "\n",
    "adj_close['my_portfolio']=adj_close[tickers].mean(axis=1)\n",
    "returnz = adj_close.pct_change()\n"
   ]
  },
  {
   "cell_type": "code",
   "execution_count": 185,
   "id": "f7c62d46-c62c-4932-930a-4b99cb0b66d2",
   "metadata": {},
   "outputs": [
    {
     "data": {
      "text/plain": [
       "ATVI            0.276555\n",
       "HEINY           0.462876\n",
       "HOG             0.453786\n",
       "LVMUY           0.699220\n",
       "NKE             0.678789\n",
       "SWBI            0.358017\n",
       "SWK             0.716212\n",
       "^DJI            0.786173\n",
       "^GSPC           0.752622\n",
       "^RUT            0.666925\n",
       "my_portfolio    1.000000\n",
       "Name: my_portfolio, dtype: float64"
      ]
     },
     "execution_count": 185,
     "metadata": {},
     "output_type": "execute_result"
    }
   ],
   "source": [
    "returnz.corr().my_portfolio"
   ]
  },
  {
   "cell_type": "code",
   "execution_count": 186,
   "id": "5ffb0a55-8207-4779-a8f7-86540169792f",
   "metadata": {},
   "outputs": [
    {
     "data": {
      "text/plain": [
       "ATVI            0.000072\n",
       "HEINY           0.000071\n",
       "HOG             0.000124\n",
       "LVMUY           0.000128\n",
       "NKE             0.000128\n",
       "SWBI            0.000138\n",
       "SWK             0.000118\n",
       "^DJI            0.000067\n",
       "^GSPC           0.000071\n",
       "^RUT            0.000099\n",
       "my_portfolio    0.000114\n",
       "Name: my_portfolio, dtype: float64"
      ]
     },
     "execution_count": 186,
     "metadata": {},
     "output_type": "execute_result"
    }
   ],
   "source": [
    "returnz.cov().my_portfolio"
   ]
  },
  {
   "cell_type": "code",
   "execution_count": 187,
   "id": "234bbf77-3f0d-4616-8578-03e3824611df",
   "metadata": {},
   "outputs": [
    {
     "data": {
      "text/plain": [
       "0.006593824927634117"
      ]
     },
     "execution_count": 187,
     "metadata": {},
     "output_type": "execute_result"
    }
   ],
   "source": [
    "adj_close['my_portfolio'].pct_change() \n",
    "adj_close[benchmarks].pct_change()\n",
    "diff4SPY=returnz['my_portfolio'] - returnz['^GSPC']\n",
    "diff4IWM=returnz['my_portfolio'] - returnz['^RUT']\n",
    "diff4DIA=returnz['my_portfolio'] - returnz['^DJI']\n",
    "diff4SPY.std()\n",
    "diff4IWM.std()\n",
    "diff4DIA.std()\n"
   ]
  },
  {
   "cell_type": "code",
   "execution_count": 188,
   "id": "1c12490b-0de0-4402-8b9d-00d6451714bc",
   "metadata": {},
   "outputs": [
    {
     "data": {
      "text/plain": [
       "0.041715679722097"
      ]
     },
     "execution_count": 188,
     "metadata": {},
     "output_type": "execute_result"
    }
   ],
   "source": [
    "# portfolio vol minus the etf vol\n",
    "(returnz['my_portfolio'].std()* math.sqrt(252)) - (returnz['^GSPC'].std()* math.sqrt(252))\n",
    "(returnz['my_portfolio'].std()* math.sqrt(252)) - (returnz['^RUT'].std()* math.sqrt(252))\n",
    "(returnz['my_portfolio'].std()* math.sqrt(252)) - (returnz['^DJI'].std()* math.sqrt(252))"
   ]
  },
  {
   "cell_type": "code",
   "execution_count": 194,
   "id": "36caf6cb-e8a3-4b5f-9304-bc1745c73ea9",
   "metadata": {},
   "outputs": [
    {
     "data": {
      "text/plain": [
       "770.9774814277418"
      ]
     },
     "execution_count": 194,
     "metadata": {},
     "output_type": "execute_result"
    }
   ],
   "source": [
    "#sharpe ratio = (return - risk free rate )/ std\n",
    "# as of feb 28 current risk free rate is 1.83\n",
    "((returnz['^GSPC'].sum() *100) - 1.83)/returnz['^GSPC'].std()\n",
    "((returnz['^RUT'].sum() *100) - 1.83)/returnz['^RUT'].std()\n",
    "((returnz['^DJI'].sum() *100) - 1.83)/returnz['^DJI'].std()\n",
    "\n",
    "\n"
   ]
  },
  {
   "cell_type": "code",
   "execution_count": 171,
   "id": "965ddf14-6bb4-405d-9876-d6552e62e07c",
   "metadata": {},
   "outputs": [
    {
     "data": {
      "text/plain": [
       "<AxesSubplot:>"
      ]
     },
     "execution_count": 171,
     "metadata": {},
     "output_type": "execute_result"
    },
    {
     "data": {
      "image/png": "[encoded data removed]",
      "text/plain": [
       "<Figure size 432x288 with 2 Axes>"
      ]
     },
     "metadata": {
      "needs_background": "light"
     },
     "output_type": "display_data"
    }
   ],
   "source": [
    "\n",
    "import seaborn as sns\n",
    "sns.heatmap(returnz.corr())\n"
   ]
  },
  {
   "cell_type": "code",
   "execution_count": null,
   "id": "ec99cedc-e8fb-4e2a-8ac8-2834bb897649",
   "metadata": {},
   "outputs": [],
   "source": []
  },
  {
   "cell_type": "code",
   "execution_count": null,
   "id": "d944f2f7-5c74-4706-8787-c248c211b6fd",
   "metadata": {},
   "outputs": [],
   "source": []
  },
  {
   "cell_type": "code",
   "execution_count": null,
   "id": "80bea7a9-faa4-4854-b57d-1d9a546e74d4",
   "metadata": {},
   "outputs": [],
   "source": []
  },
  {
   "cell_type": "code",
   "execution_count": null,
   "id": "40153dd7-6ae2-4aa3-af18-c25b4c75a55c",
   "metadata": {},
   "outputs": [],
   "source": []
  },
  {
   "cell_type": "code",
   "execution_count": null,
   "id": "0c35550f-5335-46a8-9ac3-a9921ee6deaa",
   "metadata": {},
   "outputs": [],
   "source": []
  },
  {
   "cell_type": "code",
   "execution_count": null,
   "id": "7e6c6fc0-084a-424e-b47a-01fb58183bca",
   "metadata": {},
   "outputs": [],
   "source": []
  },
  {
   "cell_type": "code",
   "execution_count": null,
   "id": "2f4dcc4b-0d0a-48a0-945c-b0f1e8c697d6",
   "metadata": {},
   "outputs": [],
   "source": []
  },
  {
   "cell_type": "code",
   "execution_count": null,
   "id": "fffb66e7-46ee-44ed-bedc-a210c12e89f1",
   "metadata": {},
   "outputs": [],
   "source": []
  },
  {
   "cell_type": "code",
   "execution_count": null,
   "id": "55d842df-2fb6-41e6-84c0-711c2450ca0c",
   "metadata": {},
   "outputs": [],
   "source": []
  },
  {
   "cell_type": "code",
   "execution_count": null,
   "id": "1b0d6fc3-0204-433f-84db-25cf309d9bf0",
   "metadata": {},
   "outputs": [],
   "source": []
  },
  {
   "cell_type": "code",
   "execution_count": null,
   "id": "45038dd8-1335-49b7-8d76-96b2ee0fd85c",
   "metadata": {},
   "outputs": [],
   "source": []
  },
  {
   "cell_type": "code",
   "execution_count": null,
   "id": "6e7afd41-42a8-49a4-992c-7f19cddda2f0",
   "metadata": {},
   "outputs": [],
   "source": []
  },
  {
   "cell_type": "code",
   "execution_count": null,
   "id": "c947ab56-ab7f-46d0-b238-cb0040bdcb96",
   "metadata": {},
   "outputs": [],
   "source": []
  },
  {
   "cell_type": "code",
   "execution_count": null,
   "id": "319f4159-9fc2-4428-be4a-cbd6398ceea1",
   "metadata": {},
   "outputs": [],
   "source": []
  },
  {
   "cell_type": "code",
   "execution_count": null,
   "id": "c27d5981-120a-4bea-82f2-2d3d1e722ef7",
   "metadata": {},
   "outputs": [],
   "source": []
  },
  {
   "cell_type": "code",
   "execution_count": null,
   "id": "61612eb8-aa29-4df5-8f4c-a019385fde3a",
   "metadata": {},
   "outputs": [],
   "source": []
  },
  {
   "cell_type": "code",
   "execution_count": null,
   "id": "5f16a479-325f-4fc7-a149-0972c02d1c0e",
   "metadata": {},
   "outputs": [],
   "source": [
    "\n",
    "\n",
    "\n"
   ]
  },
  {
   "cell_type": "code",
   "execution_count": null,
   "id": "16338c12-f0ce-4244-bec9-8a528a4f66db",
   "metadata": {},
   "outputs": [],
   "source": [
    "\n"
   ]
  },
  {
   "cell_type": "code",
   "execution_count": null,
   "id": "fe0474cd-aa98-4f4d-a7f4-b0e5d3ba3128",
   "metadata": {},
   "outputs": [],
   "source": []
  },
  {
   "cell_type": "code",
   "execution_count": null,
   "id": "56671814-9510-4b58-bda8-bc89af4b81f8",
   "metadata": {},
   "outputs": [],
   "source": [
    "\n"
   ]
  },
  {
   "cell_type": "code",
   "execution_count": null,
   "id": "72c1c8e1-6330-419b-8d84-1c699ffcd094",
   "metadata": {},
   "outputs": [],
   "source": [
    "\n"
   ]
  },
  {
   "cell_type": "code",
   "execution_count": 69,
   "id": "73bbae51-c52a-4a4d-9e5b-dd665ae3f759",
   "metadata": {},
   "outputs": [
    {
     "name": "stdout",
     "output_type": "stream",
     "text": [
      "[*********************100%***********************]  1 of 1 completed\n"
     ]
    },
    {
     "data": {
      "image/png": "[encoded data removed]",
      "text/plain": [
       "<Figure size 432x288 with 1 Axes>"
      ]
     },
     "metadata": {
      "needs_background": "light"
     },
     "output_type": "display_data"
    }
   ],
   "source": []
  },
  {
   "cell_type": "code",
   "execution_count": null,
   "id": "058607e2-51ea-40d0-8167-a920d72228f0",
   "metadata": {},
   "outputs": [],
   "source": []
  },
  {
   "cell_type": "code",
   "execution_count": 8,
   "id": "4732c096-bb2d-4fa4-bbe3-20d1049b9731",
   "metadata": {},
   "outputs": [
    {
     "name": "stdout",
     "output_type": "stream",
     "text": [
      "[*********************100%***********************]  1 of 1 completed\n"
     ]
    }
   ],
   "source": []
  },
  {
   "cell_type": "code",
   "execution_count": null,
   "id": "69333f20-fea5-458f-b89a-404cefd66b50",
   "metadata": {},
   "outputs": [],
   "source": []
  },
  {
   "cell_type": "code",
   "execution_count": 25,
   "id": "203eae7c-cd5c-4bfe-955e-4445c58887dd",
   "metadata": {},
   "outputs": [
    {
     "name": "stdout",
     "output_type": "stream",
     "text": [
      "[*********************100%***********************]  6 of 6 completed\n"
     ]
    },
    {
     "data": {
      "text/html": [
       "<div>\n",
       "<style scoped>\n",
       "    .dataframe tbody tr th:only-of-type {\n",
       "        vertical-align: middle;\n",
       "    }\n",
       "\n",
       "    .dataframe tbody tr th {\n",
       "        vertical-align: top;\n",
       "    }\n",
       "\n",
       "    .dataframe thead th {\n",
       "        text-align: right;\n",
       "    }\n",
       "</style>\n",
       "<table border=\"1\" class=\"dataframe\">\n",
       "  <thead>\n",
       "    <tr style=\"text-align: right;\">\n",
       "      <th></th>\n",
       "      <th>AAPL</th>\n",
       "      <th>AXP</th>\n",
       "      <th>BA</th>\n",
       "      <th>IBM</th>\n",
       "      <th>MU</th>\n",
       "      <th>WMT</th>\n",
       "    </tr>\n",
       "    <tr>\n",
       "      <th>Date</th>\n",
       "      <th></th>\n",
       "      <th></th>\n",
       "      <th></th>\n",
       "      <th></th>\n",
       "      <th></th>\n",
       "      <th></th>\n",
       "    </tr>\n",
       "  </thead>\n",
       "  <tbody>\n",
       "    <tr>\n",
       "      <th>2022-02-11</th>\n",
       "      <td>168.639999</td>\n",
       "      <td>191.809998</td>\n",
       "      <td>212.300003</td>\n",
       "      <td>132.690002</td>\n",
       "      <td>89.760002</td>\n",
       "      <td>135.330002</td>\n",
       "    </tr>\n",
       "    <tr>\n",
       "      <th>2022-02-14</th>\n",
       "      <td>168.880005</td>\n",
       "      <td>192.350006</td>\n",
       "      <td>210.039993</td>\n",
       "      <td>130.149994</td>\n",
       "      <td>89.860001</td>\n",
       "      <td>133.949997</td>\n",
       "    </tr>\n",
       "    <tr>\n",
       "      <th>2022-02-15</th>\n",
       "      <td>172.789993</td>\n",
       "      <td>197.979996</td>\n",
       "      <td>217.729996</td>\n",
       "      <td>129.940002</td>\n",
       "      <td>96.000000</td>\n",
       "      <td>134.369995</td>\n",
       "    </tr>\n",
       "    <tr>\n",
       "      <th>2022-02-16</th>\n",
       "      <td>172.550003</td>\n",
       "      <td>198.380005</td>\n",
       "      <td>218.929993</td>\n",
       "      <td>129.179993</td>\n",
       "      <td>96.059998</td>\n",
       "      <td>133.529999</td>\n",
       "    </tr>\n",
       "    <tr>\n",
       "      <th>2022-02-17</th>\n",
       "      <td>168.880005</td>\n",
       "      <td>195.710007</td>\n",
       "      <td>213.580002</td>\n",
       "      <td>124.970001</td>\n",
       "      <td>93.730003</td>\n",
       "      <td>138.880005</td>\n",
       "    </tr>\n",
       "  </tbody>\n",
       "</table>\n",
       "</div>"
      ],
      "text/plain": [
       "                  AAPL         AXP          BA         IBM         MU  \\\n",
       "Date                                                                    \n",
       "2022-02-11  168.639999  191.809998  212.300003  132.690002  89.760002   \n",
       "2022-02-14  168.880005  192.350006  210.039993  130.149994  89.860001   \n",
       "2022-02-15  172.789993  197.979996  217.729996  129.940002  96.000000   \n",
       "2022-02-16  172.550003  198.380005  218.929993  129.179993  96.059998   \n",
       "2022-02-17  168.880005  195.710007  213.580002  124.970001  93.730003   \n",
       "\n",
       "                   WMT  \n",
       "Date                    \n",
       "2022-02-11  135.330002  \n",
       "2022-02-14  133.949997  \n",
       "2022-02-15  134.369995  \n",
       "2022-02-16  133.529999  \n",
       "2022-02-17  138.880005  "
      ]
     },
     "execution_count": 25,
     "metadata": {},
     "output_type": "execute_result"
    }
   ],
   "source": []
  },
  {
   "cell_type": "code",
   "execution_count": null,
   "id": "701dcad0-ee3a-4c41-8d83-f5c175feb094",
   "metadata": {},
   "outputs": [],
   "source": []
  }
 ],
 "metadata": {
  "kernelspec": {
   "display_name": "Python 3 (ipykernel)",
   "language": "python",
   "name": "python3"
  },
  "language_info": {
   "codemirror_mode": {
    "name": "ipython",
    "version": 3
   },
   "file_extension": ".py",
   "mimetype": "text/x-python",
   "name": "python",
   "nbconvert_exporter": "python",
   "pygments_lexer": "ipython3",
   "version": "3.9.7"
  }
 },
 "nbformat": 4,
 "nbformat_minor": 5
}
